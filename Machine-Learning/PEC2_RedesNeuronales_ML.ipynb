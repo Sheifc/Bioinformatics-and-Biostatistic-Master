{
  "cells": [
    {
      "cell_type": "markdown",
      "metadata": {
        "id": "TDXpWuqihrqC"
      },
      "source": [
        "# PEC 2: Machine Learning\n",
        "\n",
        "## Sheila Fernández Cisneros \n",
        "## Actividad\n",
        "### Descripción\n",
        "El uso de radiografías en el ámbito medico esta ampliamente extendido. Los radiologos son los médicos que\n",
        "analizan las imágenes y redactan el informe sobre lo que ven. Desde hace algunos años, los algoritmos de\n",
        "machine learning, en especial la redes neuronales artificiales, están analizando imágenes con un gran éxito.\n",
        "En esta PEC se plantea la implementación de una red neuronal convolucional para clasificar radiografías en\n",
        "normales o con derrame.\n",
        "El conjunto de datos (ver zip) que vamos a utilizar consta de 350 radiografías de tórax normales (carpeta con\n",
        "el nombre normal) y 350 radiografías con derrame (carpeta con el nombre effusion), tomadas y seleccionadas\n",
        "del conjunto de datos público NIH ChestXray14:\n",
        "https://www.nih.gov/news-events/news-releases/nih-clinical-center-provides-one-largest-publicly\u0002available-chest-x-ray-datasets-scientific-community.\n",
        "Como ejemplo, se presenta la imagen del fichero n99.png del grupo normal."
      ]
    },
    {
      "cell_type": "markdown",
      "metadata": {
        "id": "zT2YuGxKiQnn"
      },
      "source": [
        "## Enunciado\n",
        "**1. Desempaquetar y leer el fichero de datos**"
      ]
    },
    {
      "cell_type": "markdown",
      "metadata": {
        "id": "uOKtXBdr2Uc5"
      },
      "source": [
        "Usaremos google colab para resolver esta actividad. \n",
        "\n",
        "Procedemos a cargar las carpetas con las imagenes, hay dos modos de hacerlo, se puede cargar directamente desde el directorio del ordenador a google colab con el inconveniente de que al abrir una nueva sesión, habría que volver a cargar el directorio, por tanto para ahorrarnos tiempo, vamos a subir nuestra carpeta de datos descomprimida a google drive y conectarlo a google colab para acceder directamente.\n",
        "\n",
        "Primer método que no usaremos:\n",
        "\n",
        "from google.colab import files uploaded = files.upload()\n",
        "\n",
        "A continuación seleccionas el archivo que desear subir.\n",
        "\n",
        "Al ser un archivo zip debemos descomprimirlo:\n",
        "\n",
        "import zipfile import io data = zipfile.ZipFile(io.BytesIO(uploaded[\"archivo.zip\"], \"r\") data.extractall()\n",
        "\n",
        "Para conectar google colab y google drive, se puede usar el código que detallo a continuación:\n"
      ]
    },
    {
      "cell_type": "code",
      "execution_count": null,
      "metadata": {
        "colab": {
          "base_uri": "https://localhost:8080/"
        },
        "id": "ia09nVHBWUED",
        "outputId": "a1517a54-6a80-4fe3-9fdd-73b9dc553944"
      },
      "outputs": [
        {
          "name": "stdout",
          "output_type": "stream",
          "text": [
            "Mounted at /content/drive\n"
          ]
        }
      ],
      "source": [
        "from google.colab import drive\n",
        "drive.mount(\"/content/drive\")"
      ]
    },
    {
      "cell_type": "markdown",
      "metadata": {
        "id": "5nlstD7-YLi9"
      },
      "source": [
        "Procedemos a ver en que carpeta estamos dentro de google colab y comprobamos que nos encontramos en /content. En el menú izquierdo de google colab podemos acceder a /content y de ahí poder acceder a las carpetas que necesitemos. "
      ]
    },
    {
      "cell_type": "code",
      "execution_count": null,
      "metadata": {
        "colab": {
          "base_uri": "https://localhost:8080/"
        },
        "id": "EdpjTCd3YLMX",
        "outputId": "7d19d183-801e-453f-9151-1cabb217b618"
      },
      "outputs": [
        {
          "name": "stdout",
          "output_type": "stream",
          "text": [
            "/content\n"
          ]
        }
      ],
      "source": [
        "!pwd"
      ]
    },
    {
      "cell_type": "markdown",
      "metadata": {
        "id": "QfGCatB8cxSv"
      },
      "source": [
        "En este caso, los datos se encuentran en una carpeta llamada data la cual contiene las carpetas normal y effusion. Estas son las rutas de las carpetas:"
      ]
    },
    {
      "cell_type": "code",
      "execution_count": null,
      "metadata": {
        "id": "ScZa8lZYdL3L"
      },
      "outputs": [],
      "source": [
        "data_path = \"/content/drive/MyDrive/Colab_Notebooks/data\"\n",
        "n_path = \"/content/drive/MyDrive/Colab_Notebooks/data/normal\"\n",
        "e_path = \"/content/drive/MyDrive/Colab_Notebooks/data/effusion\""
      ]
    },
    {
      "cell_type": "markdown",
      "metadata": {
        "id": "d8c3enMzaSFh"
      },
      "source": [
        "#### Referencias: \n",
        "Esta información la he aprendido gracias a este recurso de youtube: \n",
        "\n",
        "https://www.youtube.com/watch?v=fJvAgRTH488"
      ]
    },
    {
      "cell_type": "markdown",
      "metadata": {
        "id": "2F1XM_eecHM7"
      },
      "source": [
        "### 2. Presentar algunas imágenes de radiografías normales y con derrame."
      ]
    },
    {
      "cell_type": "markdown",
      "metadata": {
        "id": "dbpdtpQf5DW-"
      },
      "source": [
        "En primer lugar, procedemos a cargar las librerías que vamos a usar. "
      ]
    },
    {
      "cell_type": "code",
      "execution_count": null,
      "metadata": {
        "id": "-Yn44SmFjEF2"
      },
      "outputs": [],
      "source": [
        "import numpy as np\n",
        "import pandas as pd\n",
        "import matplotlib.pyplot as plt\n",
        "import matplotlib.image as mpimg\n",
        "import seaborn as sns\n",
        "import cv2\n",
        "import os\n",
        "import random\n",
        "import tensorflow as tf\n",
        "from tensorflow import keras\n",
        "import keras.backend as K\n",
        "from keras.models import Sequential\n",
        "from keras.layers import Dense, Dropout, Flatten, Activation\n",
        "from keras.layers import SeparableConv2D, ZeroPadding2D, Conv2D, MaxPool2D, BatchNormalization\n",
        "from keras.callbacks import ModelCheckpoint, ReduceLROnPlateau\n",
        "from keras.optimizers import Adam\n",
        "from sklearn.metrics import ConfusionMatrixDisplay\n",
        "from keras.preprocessing.image import ImageDataGenerator\n",
        "from sklearn.metrics import accuracy_score, confusion_matrix\n",
        "from tensorflow.keras.models import Sequential, Model\n",
        "from tensorflow.keras.layers import Input, Dense, Conv2D, MaxPooling2D, Flatten, Dropout \n",
        "from sklearn.metrics import classification_report, confusion_matrix\n",
        "from sklearn.preprocessing import LabelEncoder\n",
        "from sklearn.metrics import roc_curve\n"
      ]
    },
    {
      "cell_type": "code",
      "execution_count": null,
      "metadata": {
        "id": "PriKKrKBnGwh"
      },
      "outputs": [],
      "source": [
        "dir = \"/content/drive/MyDrive/Colab_Notebooks/\"\n",
        "ruta_imagen = dir + \"data\" \n",
        "ruta_normal = os.path.join(ruta_imagen + '/normal')\n",
        "ruta_effusion = os.path.join(ruta_imagen + '/effusion')\n"
      ]
    },
    {
      "cell_type": "code",
      "execution_count": null,
      "metadata": {
        "colab": {
          "base_uri": "https://localhost:8080/"
        },
        "id": "QIk19yXmJqET",
        "outputId": "1f84d345-db03-48bb-9b19-02147c3ff1b2"
      },
      "outputs": [
        {
          "name": "stdout",
          "output_type": "stream",
          "text": [
            "Total number of normal images in training set:  350\n",
            "Total number of effusion images in training set:  350\n"
          ]
        }
      ],
      "source": [
        "print(\"Total number of normal images in training set: \",len(os.listdir(ruta_normal)))\n",
        "print(\"Total number of effusion images in training set: \",len(os.listdir(ruta_effusion)))"
      ]
    },
    {
      "cell_type": "markdown",
      "metadata": {
        "id": "bpVoh8ixKZS-"
      },
      "source": [
        "Observamos que tenemos 350 imagenes en la carpeta de radiografías normales y 350 en la carpeta de radiografías effusion."
      ]
    },
    {
      "cell_type": "markdown",
      "metadata": {
        "id": "8BEYixEokeBz"
      },
      "source": [
        "Mostramos un par de imágenes de radiografías normales: "
      ]
    },
    {
      "cell_type": "code",
      "execution_count": null,
      "metadata": {
        "colab": {
          "base_uri": "https://localhost:8080/",
          "height": 286
        },
        "id": "HgJpmnvCjYny",
        "outputId": "78d0269a-9f33-4a7a-e346-c2a8486f3599"
      },
      "outputs": [
        {
          "data": {
            "image/png": "[encoded data removed]",
            "text/plain": [
              "<Figure size 432x288 with 1 Axes>"
            ]
          },
          "metadata": {
            "needs_background": "light"
          },
          "output_type": "display_data"
        },
        {
          "name": "stdout",
          "output_type": "stream",
          "text": [
            "(512, 512, 3)\n"
          ]
        }
      ],
      "source": [
        "# Importamos las librerias openCV, matplotlib\n",
        "import cv2\n",
        "import matplotlib.pyplot as plt\n",
        "\n",
        "# Cargar la imagen con openCV\n",
        "img = cv2.imread('/content/drive/MyDrive/Colab_Notebooks/data/normal/n1.png')\n",
        "# Mostramos la imagen número 1 de la carpeta normal\n",
        "plt.imshow(img)\n",
        "plt.show()\n",
        "print(img.shape)"
      ]
    },
    {
      "cell_type": "code",
      "execution_count": null,
      "metadata": {
        "colab": {
          "base_uri": "https://localhost:8080/",
          "height": 286
        },
        "id": "IvgPLjGAj-yw",
        "outputId": "13d219f7-974b-4a10-ba9e-6c9fae28aa5e"
      },
      "outputs": [
        {
          "data": {
            "image/png": "[encoded data removed]",
            "text/plain": [
              "<Figure size 432x288 with 1 Axes>"
            ]
          },
          "metadata": {
            "needs_background": "light"
          },
          "output_type": "display_data"
        },
        {
          "name": "stdout",
          "output_type": "stream",
          "text": [
            "(512, 512, 3)\n"
          ]
        }
      ],
      "source": [
        "img = cv2.imread('/content/drive/MyDrive/Colab_Notebooks/data/normal/n23.png')\n",
        "# Mostramos la imagen número 23 de la carpeta normal\n",
        "plt.imshow(img)\n",
        "plt.show()\n",
        "print(img.shape)"
      ]
    },
    {
      "cell_type": "markdown",
      "metadata": {
        "id": "mA9TOonMkkTX"
      },
      "source": [
        "Mostramos un par de imágenes de la carpeta effusion, radiografías de pulmones con derrame: "
      ]
    },
    {
      "cell_type": "code",
      "execution_count": null,
      "metadata": {
        "colab": {
          "base_uri": "https://localhost:8080/",
          "height": 286
        },
        "id": "uaMdW-EqkVEm",
        "outputId": "84120ef7-603f-4a15-d510-d49a7abc401b"
      },
      "outputs": [
        {
          "data": {
            "image/png": "[encoded data removed]",
            "text/plain": [
              "<Figure size 432x288 with 1 Axes>"
            ]
          },
          "metadata": {
            "needs_background": "light"
          },
          "output_type": "display_data"
        },
        {
          "name": "stdout",
          "output_type": "stream",
          "text": [
            "(512, 512, 3)\n"
          ]
        }
      ],
      "source": [
        "img = cv2.imread('/content/drive/MyDrive/Colab_Notebooks/data/effusion/e1.png')\n",
        "# Mostramos la imagen número 1 de la carpeta effusion\n",
        "plt.imshow(img)\n",
        "plt.show()\n",
        "print(img.shape)"
      ]
    },
    {
      "cell_type": "code",
      "execution_count": null,
      "metadata": {
        "colab": {
          "base_uri": "https://localhost:8080/",
          "height": 286
        },
        "id": "-vyqQjEwkxik",
        "outputId": "46b1a9f2-a67a-4b9b-8400-4d7dab67fd27"
      },
      "outputs": [
        {
          "data": {
            "image/png": "[encoded data removed]",
            "text/plain": [
              "<Figure size 432x288 with 1 Axes>"
            ]
          },
          "metadata": {
            "needs_background": "light"
          },
          "output_type": "display_data"
        },
        {
          "name": "stdout",
          "output_type": "stream",
          "text": [
            "(512, 512, 3)\n"
          ]
        }
      ],
      "source": [
        "img = cv2.imread('/content/drive/MyDrive/Colab_Notebooks/data/effusion/e11.png')\n",
        "# Mostramos la imagen número 11 de la carpeta effusion\n",
        "plt.imshow(img)\n",
        "plt.show()\n",
        "print(img.shape)"
      ]
    },
    {
      "cell_type": "markdown",
      "metadata": {
        "id": "vAYkqCaB-tUr"
      },
      "source": [
        "Comprobamos con la función shape que las imágenes presentan dimensiones de 512x512 y canal 3. "
      ]
    },
    {
      "cell_type": "markdown",
      "metadata": {
        "id": "AnO6UF7ek-7K"
      },
      "source": [
        "## Referencias usadas para realizar esta parte de la actividad: \n",
        "\n",
        "https://www.youtube.com/watch?v=fJvAgRTH488\n",
        "\n",
        "https://colab.research.google.com/drive/1qVdz2ClR9x2Ig7IezGSnw1K8qhBGRoGU?usp=sharing\n",
        "\n",
        "https://noemioocc.github.io/posts/Mostrar-varias-im%C3%A1genes-con-matplotlib/\n",
        "\n",
        "\n",
        "\n"
      ]
    },
    {
      "cell_type": "markdown",
      "metadata": {
        "id": "KN_pLZGfk3WM"
      },
      "source": [
        "### 3. Preprocesar las imágenes originales de 512x512x3 para convertirlas 64x64x1. Solo se coge un canal de los 3 canales originales porque las imágenes son en blanco y negro. Todos los canales tienen la misma información."
      ]
    },
    {
      "cell_type": "markdown",
      "metadata": {
        "id": "-0HTQcxaCmmN"
      },
      "source": [
        "Crearemos una funcion que nos permita etiquetar las imagenes, cambiar el tamaño de 512 a 64, y un solo canal."
      ]
    },
    {
      "cell_type": "code",
      "execution_count": null,
      "metadata": {
        "id": "Cv_-BqOpT6-g"
      },
      "outputs": [],
      "source": [
        "# Definimos la función loadImages\n",
        "def loadImages(path, urls, target):  # Colocamos las etiquetas\n",
        "  # creamos dos listas vacías para imagenes y labels\n",
        "  images = []       \n",
        "  labels = []       \n",
        "  size = 64\n",
        "\n",
        "  for i in range(len(urls)):\n",
        "    img_path = path + \"/\" + urls[i]\n",
        "    # El cero nos cambia el canal de la imagen \n",
        "    img = cv2.imread(img_path, 0) \n",
        "    # cambiamos el tamaño a las imágenes  \n",
        "    img = cv2.resize(img, (size, size))\n",
        "    # tras haber sido transformada, añadimos la imagen a la lista images \n",
        "    images.append(img)  \n",
        "    # asingamos una etiqueta a la imagen tras ser añadida a la lista             \n",
        "    labels.append(target) \n",
        "  # convertimos la lista images a array          \n",
        "  images = np.asarray(images)       \n",
        "  return images, labels"
      ]
    },
    {
      "cell_type": "code",
      "execution_count": null,
      "metadata": {
        "id": "LbTXvj46EBJL"
      },
      "outputs": [],
      "source": [
        "imagen_normal = os.path.join(ruta_imagen + '/normal')\n",
        "imagen_effusion = os.path.join(ruta_imagen + '/effusion')"
      ]
    },
    {
      "cell_type": "code",
      "execution_count": null,
      "metadata": {
        "id": "Yhu9NURDE_tS"
      },
      "outputs": [],
      "source": [
        "normal_directory= os.listdir(imagen_normal)\n",
        "effusion_directory= os.listdir(imagen_effusion)"
      ]
    },
    {
      "cell_type": "code",
      "execution_count": null,
      "metadata": {
        "colab": {
          "base_uri": "https://localhost:8080/"
        },
        "id": "t_uuzmZDEPpN",
        "outputId": "43d6827c-83bf-4373-ecce-63878d40f1d3"
      },
      "outputs": [
        {
          "name": "stdout",
          "output_type": "stream",
          "text": [
            "Total number of normal images in training set:  350\n",
            "Total number of effusion images in training set:  350\n"
          ]
        }
      ],
      "source": [
        "print(\"Número total de imágenes normales: \",len(os.listdir(imagen_normal)))\n",
        "print(\"Total number of effusion images in training set: \",len(os.listdir(imagen_effusion)))"
      ]
    },
    {
      "cell_type": "markdown",
      "metadata": {
        "id": "mK_FLHpoFeL5"
      },
      "source": [
        "Procedemos a asignar un target para poder identificar las radiografías por su label o etiqueta normal (0) o derrame (1). "
      ]
    },
    {
      "cell_type": "code",
      "execution_count": null,
      "metadata": {
        "id": "6J_MN77yUlr8"
      },
      "outputs": [],
      "source": [
        "Imagen_Normal, TargetNormal = loadImages(imagen_normal,normal_directory, 0)"
      ]
    },
    {
      "cell_type": "code",
      "execution_count": null,
      "metadata": {
        "id": "ZC1cgOvSIFt6"
      },
      "outputs": [],
      "source": [
        "Imagen_Effusion, TargetEffusion = loadImages(imagen_effusion,effusion_directory, 1)"
      ]
    },
    {
      "cell_type": "code",
      "execution_count": null,
      "metadata": {
        "colab": {
          "base_uri": "https://localhost:8080/"
        },
        "id": "NnNscm95JsvU",
        "outputId": "55f54b82-28af-4a5e-dea0-72a367674355"
      },
      "outputs": [
        {
          "data": {
            "text/plain": [
              "350"
            ]
          },
          "execution_count": 26,
          "metadata": {},
          "output_type": "execute_result"
        }
      ],
      "source": [
        "len(normal_directory)\n"
      ]
    },
    {
      "cell_type": "code",
      "execution_count": null,
      "metadata": {
        "colab": {
          "base_uri": "https://localhost:8080/"
        },
        "id": "2HhLOMfDKxgG",
        "outputId": "422a4545-1b55-47f2-88ea-2bc9563f299a"
      },
      "outputs": [
        {
          "data": {
            "text/plain": [
              "350"
            ]
          },
          "execution_count": 27,
          "metadata": {},
          "output_type": "execute_result"
        }
      ],
      "source": [
        "len(effusion_directory)"
      ]
    },
    {
      "cell_type": "code",
      "execution_count": null,
      "metadata": {
        "colab": {
          "base_uri": "https://localhost:8080/"
        },
        "id": "BpIVhrZ3K8k9",
        "outputId": "de61010a-a581-48fc-b915-4f70f74e2401"
      },
      "outputs": [
        {
          "data": {
            "text/plain": [
              "350"
            ]
          },
          "execution_count": 45,
          "metadata": {},
          "output_type": "execute_result"
        }
      ],
      "source": [
        "len(Imagen_Normal)"
      ]
    },
    {
      "cell_type": "code",
      "execution_count": null,
      "metadata": {
        "colab": {
          "base_uri": "https://localhost:8080/"
        },
        "id": "RGiaWA9BLCUA",
        "outputId": "4a34958f-4f8a-414c-b046-9bec2dd16f4c"
      },
      "outputs": [
        {
          "data": {
            "text/plain": [
              "350"
            ]
          },
          "execution_count": 44,
          "metadata": {},
          "output_type": "execute_result"
        }
      ],
      "source": [
        "len(Imagen_Effusion)"
      ]
    },
    {
      "cell_type": "markdown",
      "metadata": {
        "id": "LkybJIUELjVB"
      },
      "source": [
        "Comprobamos que se ha realizado los cambios correctamente: "
      ]
    },
    {
      "cell_type": "code",
      "execution_count": null,
      "metadata": {
        "colab": {
          "base_uri": "https://localhost:8080/"
        },
        "id": "hwBfQppm9ydF",
        "outputId": "3dbc0d4d-d293-4836-c0f1-ba5348da8584"
      },
      "outputs": [
        {
          "name": "stdout",
          "output_type": "stream",
          "text": [
            "Shape de las radiografías normales : (350, 64, 64)\n",
            "Shape de las radiografías con derrame : (350, 64, 64)\n"
          ]
        }
      ],
      "source": [
        "print(\"Shape de las radiografías normales : {}\".format(Imagen_Normal.shape))\n",
        "print(\"Shape de las radiografías con derrame : {}\".format(Imagen_Effusion.shape))"
      ]
    },
    {
      "cell_type": "markdown",
      "metadata": {
        "id": "7swV3hvgBtOG"
      },
      "source": [
        "#### Referencias usadas para realizar esta parte de la actividad:\n",
        "\n",
        "Curso datacamp: procesado de imágenes: https://app.datacamp.com/learn/courses/image-processing-in-python\n",
        "\n",
        "https://www.youtube.com/watch?v=fJvAgRTH488\n",
        "\n",
        "https://colab.research.google.com/drive/1qVdz2ClR9x2Ig7IezGSnw1K8qhBGRoGU?usp=sharing\n",
        "\n",
        "#### Cursos realizados y recursos usados para realizar la PEC:\n",
        "\n",
        "https://app.datacamp.com/learn/courses/intro-to-python-for-data-science\n",
        "\n",
        "https://app.datacamp.com/learn/courses/image-processing-with-keras-in-python"
      ]
    },
    {
      "cell_type": "markdown",
      "metadata": {
        "id": "bMTpue3zV5op"
      },
      "source": [
        "### 4. Normalizar mediante la transformación min-max las imágenes"
      ]
    },
    {
      "cell_type": "markdown",
      "metadata": {
        "id": "DTd-TQWxABS9"
      },
      "source": [
        "Como hemos obtenido arrays, los concatenamos con np.r_ de modo que las imagenes con derrame se van a unir al array de imágenes normales consecutivamente. "
      ]
    },
    {
      "cell_type": "code",
      "execution_count": null,
      "metadata": {
        "id": "S_d-Ej-CM7lP"
      },
      "outputs": [],
      "source": [
        "datos= np.r_[Imagen_Normal,Imagen_Effusion]"
      ]
    },
    {
      "cell_type": "markdown",
      "metadata": {
        "id": "tg5sLOLqAkgp"
      },
      "source": [
        "Comprovamos con shape que se han unido y mantenido el formato: "
      ]
    },
    {
      "cell_type": "code",
      "execution_count": null,
      "metadata": {
        "colab": {
          "base_uri": "https://localhost:8080/"
        },
        "id": "WqA_BultNMfZ",
        "outputId": "abec8a10-1360-4ebd-fe39-e35b2e428be1"
      },
      "outputs": [
        {
          "data": {
            "text/plain": [
              "(700, 64, 64)"
            ]
          },
          "execution_count": 52,
          "metadata": {},
          "output_type": "execute_result"
        }
      ],
      "source": [
        "datos.shape"
      ]
    },
    {
      "cell_type": "markdown",
      "metadata": {
        "id": "3acdZukwP-LE"
      },
      "source": [
        "Hacemos lo mismo con las etiquetas:"
      ]
    },
    {
      "cell_type": "code",
      "execution_count": null,
      "metadata": {
        "id": "j8xsiAv6OLm_"
      },
      "outputs": [],
      "source": [
        "targets = np.r_[TargetNormal,TargetEffusion]"
      ]
    },
    {
      "cell_type": "code",
      "execution_count": null,
      "metadata": {
        "colab": {
          "base_uri": "https://localhost:8080/"
        },
        "id": "VMhytyX-PjFx",
        "outputId": "06605c02-b734-4c3b-c008-44f47adc6d18"
      },
      "outputs": [
        {
          "data": {
            "text/plain": [
              "(700,)"
            ]
          },
          "execution_count": 54,
          "metadata": {},
          "output_type": "execute_result"
        }
      ],
      "source": [
        "targets.shape"
      ]
    },
    {
      "cell_type": "markdown",
      "metadata": {
        "id": "uE1p_GWnAznE"
      },
      "source": [
        "Procedemos a aplicar el proceso del máximo y mínimo valor. "
      ]
    },
    {
      "cell_type": "code",
      "execution_count": null,
      "metadata": {
        "colab": {
          "base_uri": "https://localhost:8080/"
        },
        "id": "1PWHpqq0QfYq",
        "outputId": "e6c1ccf5-9333-4b7f-819f-6b0c1822d5a6"
      },
      "outputs": [
        {
          "name": "stdout",
          "output_type": "stream",
          "text": [
            "Los valores Min. y max. antes de la normalización son 0 and 255.\n",
            "Los valores Min. y max. después de la normalización son 0.0 and 1.0.\n"
          ]
        }
      ],
      "source": [
        "# Encontramos el valor mínimo y máximo en el array de las imagenes totales que hemos generado \n",
        "v_min = np.min(datos)\n",
        "v_max = np.max(datos)\n",
        "print(\"Los valores Min. y max. antes de la normalización son {} and {}.\".format(v_min, v_max))\n",
        "\n",
        "# Normalizamos\n",
        "datos_Norm = (datos - v_min) / (v_max - v_min)\n",
        "\n",
        "print(\"Los valores Min. y max. después de la normalización son {} and {}.\".format(np.min(datos_Norm), np.max(datos_Norm)))"
      ]
    },
    {
      "cell_type": "markdown",
      "metadata": {
        "id": "5tgzz9dPQ7PR"
      },
      "source": [
        "Comprobamos que los datos están entre 1 y 0:"
      ]
    },
    {
      "cell_type": "code",
      "execution_count": null,
      "metadata": {
        "colab": {
          "base_uri": "https://localhost:8080/"
        },
        "id": "2BlBahouRDxz",
        "outputId": "1b50496f-aa35-45c9-81fb-1428ca9dbb67"
      },
      "outputs": [
        {
          "name": "stdout",
          "output_type": "stream",
          "text": [
            "[[[0.         0.         0.10588235 ... 0.08627451 0.08627451 0.08627451]\n",
            "  [0.         0.         0.09803922 ... 0.08235294 0.08627451 0.08627451]\n",
            "  [0.         0.         0.08235294 ... 0.08235294 0.08235294 0.08627451]\n",
            "  ...\n",
            "  [0.         0.         0.55686275 ... 0.3372549  0.37647059 0.41176471]\n",
            "  [0.         0.         0.58039216 ... 0.35686275 0.39215686 0.43529412]\n",
            "  [0.         0.         0.         ... 0.         0.         0.        ]]\n",
            "\n",
            " [[0.12156863 0.01176471 0.00784314 ... 0.34901961 0.40784314 0.52156863]\n",
            "  [0.0627451  0.         0.09019608 ... 0.2        0.21568627 0.31372549]\n",
            "  [0.17254902 0.12156863 0.14901961 ... 0.17647059 0.17254902 0.27843137]\n",
            "  ...\n",
            "  [0.         0.         0.14509804 ... 0.32156863 0.35294118 0.49411765]\n",
            "  [0.04313725 0.03529412 0.09019608 ... 0.3254902  0.35686275 0.4745098 ]\n",
            "  [0.11764706 0.11372549 0.09019608 ... 0.34509804 0.36078431 0.4745098 ]]\n",
            "\n",
            " [[0.         0.00392157 0.01176471 ... 0.00784314 0.01176471 0.00784314]\n",
            "  [0.         0.00392157 0.01176471 ... 0.00784314 0.00784314 0.00784314]\n",
            "  [0.         0.00392157 0.01176471 ... 0.00784314 0.01176471 0.00784314]\n",
            "  ...\n",
            "  [0.         0.         0.         ... 0.4        0.28627451 0.10588235]\n",
            "  [0.         0.         0.         ... 0.38823529 0.27843137 0.10980392]\n",
            "  [0.         0.         0.         ... 0.38039216 0.25490196 0.08627451]]\n",
            "\n",
            " ...\n",
            "\n",
            " [[0.01960784 0.01960784 0.01568627 ... 0.02745098 0.03529412 0.04313725]\n",
            "  [0.01960784 0.01568627 0.01568627 ... 0.01960784 0.01960784 0.01960784]\n",
            "  [0.01960784 0.01960784 0.01960784 ... 0.03137255 0.01960784 0.01960784]\n",
            "  ...\n",
            "  [0.13333333 0.01960784 0.01960784 ... 0.05490196 0.04705882 0.04705882]\n",
            "  [0.14901961 0.02745098 0.01960784 ... 0.30196078 0.04705882 0.29019608]\n",
            "  [0.19215686 0.04313725 0.02352941 ... 0.0627451  0.30980392 0.45882353]]\n",
            "\n",
            " [[0.38039216 0.00392157 0.         ... 0.01176471 0.01176471 0.01176471]\n",
            "  [0.05098039 0.         0.         ... 0.00392157 0.00392157 0.00392157]\n",
            "  [0.05098039 0.         0.         ... 0.00392157 0.00784314 0.00784314]\n",
            "  ...\n",
            "  [0.01960784 0.00784314 0.00784314 ... 0.00784314 0.01176471 0.01176471]\n",
            "  [0.01960784 0.00784314 0.00784314 ... 0.00784314 0.01176471 0.01176471]\n",
            "  [0.02745098 0.01176471 0.00784314 ... 0.00784314 0.01176471 0.01176471]]\n",
            "\n",
            " [[0.04705882 0.04705882 0.04705882 ... 0.         0.08627451 0.07058824]\n",
            "  [0.03921569 0.03921569 0.03921569 ... 0.02745098 0.02745098 0.02352941]\n",
            "  [0.03529412 0.03529412 0.03529412 ... 0.02745098 0.02745098 0.02745098]\n",
            "  ...\n",
            "  [0.12156863 0.23137255 0.3372549  ... 0.58039216 0.4745098  0.4745098 ]\n",
            "  [0.13333333 0.23921569 0.35686275 ... 0.54509804 0.42352941 0.43137255]\n",
            "  [0.20784314 0.34901961 0.48627451 ... 0.52941176 0.39607843 0.40784314]]]\n"
          ]
        }
      ],
      "source": [
        "print(datos_Norm)"
      ]
    },
    {
      "cell_type": "markdown",
      "metadata": {
        "id": "n7bXVuuDB_Nr"
      },
      "source": [
        "#### Referencias: \n",
        "\n",
        "https://gitlab.uoclabs.uoc.es/machinelearningbioinformatics/machine-learning-bioinformatics/-/blob/master/5_NeuralNetworks/CNN_MNIST.ipynb\n",
        "\n"
      ]
    },
    {
      "cell_type": "markdown",
      "metadata": {
        "id": "dSbP1B_Ca9U0"
      },
      "source": [
        "### 5. Dividir el conjunto de datos en 600 train y 100 de test. Tratar de equilibrar las dos clases."
      ]
    },
    {
      "cell_type": "markdown",
      "metadata": {
        "id": "KO4sv1FECQpD"
      },
      "source": [
        "Para poder dividir los datos de forma equilibrada solo he encontrado la librería scikit.learn que permite realizar el split de los datos de dicha forma gracias al parámetro stratify de la función test_train_split. Sin embargo, me da un error porque dice que no está definido y no lo he logrado arreglar por tanto lo he eliminado y proseguido con el estudio. "
      ]
    },
    {
      "cell_type": "code",
      "execution_count": null,
      "metadata": {
        "id": "ASDZ7jdDThRQ"
      },
      "outputs": [],
      "source": [
        "from sklearn.model_selection import train_test_split\n",
        "x_train, x_test, y_train, y_test = train_test_split(datos_Norm, targets, test_size=0.1428)"
      ]
    },
    {
      "cell_type": "markdown",
      "metadata": {
        "id": "jShLilF5DKxJ"
      },
      "source": [
        "Comprobamos que el split ha tenido lugar correctamente, tanto las labels como las imágenes se han dividido en el tamaño deseado respetando las dimensiones de las imágenes. "
      ]
    },
    {
      "cell_type": "code",
      "execution_count": null,
      "metadata": {
        "colab": {
          "base_uri": "https://localhost:8080/"
        },
        "id": "xnU9-6fnUGor",
        "outputId": "8dc79ba1-95e0-4a46-9b62-e56756a2a02e"
      },
      "outputs": [
        {
          "name": "stdout",
          "output_type": "stream",
          "text": [
            "(600, 64, 64) (600,) (100, 64, 64) (100,)\n"
          ]
        }
      ],
      "source": [
        "print(x_train.shape,y_train.shape,x_test.shape,y_test.shape)"
      ]
    },
    {
      "cell_type": "markdown",
      "metadata": {
        "id": "g5F4rgfODvUf"
      },
      "source": [
        "Usaremos reshape sobre los datos que usaremos para el entrenamiento de la CNN de manera que generemos tensores con las dimensiones adecuadas para el ser procesados por la red neuronal.  "
      ]
    },
    {
      "cell_type": "code",
      "execution_count": null,
      "metadata": {
        "colab": {
          "base_uri": "https://localhost:8080/"
        },
        "id": "TaTO8CJcVlKy",
        "outputId": "a5c38b16-b31e-4da7-f11b-a0ad638a5e2e"
      },
      "outputs": [
        {
          "name": "stdout",
          "output_type": "stream",
          "text": [
            "Datos de entrenamiento: (600, 64, 64)\n",
            "Datos de test: (100, 64, 64)\n"
          ]
        }
      ],
      "source": [
        "x_train = x_train.reshape(600,64,64)\n",
        "x_test = x_test.reshape(100,64,64)\n",
        "\n",
        "print(\"Datos de entrenamiento: {}\".format(x_train.shape))\n",
        "print(\"Datos de test: {}\".format(x_test.shape))"
      ]
    },
    {
      "cell_type": "markdown",
      "metadata": {
        "id": "adO5PoswWjTS"
      },
      "source": [
        "En el caso de las etiquetas, les modificamos el formato para que coincida con el output de la red neuronal . "
      ]
    },
    {
      "cell_type": "code",
      "execution_count": null,
      "metadata": {
        "colab": {
          "base_uri": "https://localhost:8080/"
        },
        "id": "0QqX5oqjWLdp",
        "outputId": "d904ffab-8f64-4aef-807a-c98707e42f9d"
      },
      "outputs": [
        {
          "name": "stdout",
          "output_type": "stream",
          "text": [
            "Shape de y_train (600, 2) y el valor de y_train[0] es [1. 0.]\n",
            "Shape de y_test es (100, 2) y el valor de y_test[0] is [0. 1.]\n"
          ]
        }
      ],
      "source": [
        "from keras.utils import to_categorical\n",
        "y_train = to_categorical(y_train)\n",
        "y_test = to_categorical(y_test)\n",
        "\n",
        "print(\"Shape de y_train {} y el valor de y_train[0] es {}\".format(y_train.shape,y_train[0]))\n",
        "print(\"Shape de y_test es {} y el valor de y_test[0] is {}\".format(y_test.shape, y_test[1]))"
      ]
    },
    {
      "cell_type": "markdown",
      "metadata": {
        "id": "b7CI3vehZzuX"
      },
      "source": [
        "Como podemos ver, la matriz que obtenemos en y_train e y_test es una matriz binaria debido a la funcion de keras"
      ]
    },
    {
      "cell_type": "markdown",
      "metadata": {
        "id": "0G8cfRlWck35"
      },
      "source": [
        "### 6. Implementa dos redes neuronales convolucionales (CNN) con distintas arquitecturas siguiendo las instrucciones siguientes:\n",
        "- El número de capas convolucionales no debe ser superior a 6.\n",
        "\n",
        "- Deben incluirse capas de agrupación(pool layers) para reducir el número de parámetros.\n",
        "\n",
        "- En la parte inferior de la red, las capas totalmente conectadas tendrán 128 y 32 nodos, respectiva\u0002mente.\n",
        "\n",
        "- Capa de salida con activación ‘sigmoide’.\n",
        "\n",
        "- Los parámetros entrenables deben ser al menos 60000."
      ]
    },
    {
      "cell_type": "markdown",
      "metadata": {
        "id": "owwbO5NXGpLt"
      },
      "source": [
        "#### Modelo 1: \n",
        "\n",
        "Como primer modelo propongo un modelo sencillo con dos capas convolucionales de 32 unidades, kernel de 3, con la función de activación más común \"relu\" y añadiendo padding, es decir una capa de ceros que permite que el kernel recorra toda la superficie del pixel. Seguidas de una capa de pooling para reducir el número de parámetros y una flatten para confluir con la primera capa oculta. \n",
        "\n",
        "Las dos capas ocultas presentan 128 y 32 nodos respectivamente acabando en una capa de salida sigmoide. "
      ]
    },
    {
      "cell_type": "code",
      "execution_count": null,
      "metadata": {
        "id": "3jlgdcibgf3h"
      },
      "outputs": [],
      "source": [
        "num_classes = 2 \n",
        "model_1 = Sequential()\n",
        "\n",
        "model_1.add(Conv2D(32, kernel_size=3, activation=\"relu\", input_shape=(64,64,1)))\n",
        "model_1.add(MaxPooling2D((2,2), padding=\"same\"))\n",
        "\n",
        "model_1.add(Conv2D(32, kernel_size=3, activation=\"relu\"))\n",
        "model_1.add(MaxPooling2D((2,2), padding=\"same\"))\n",
        "model_1.add(Flatten()) \n",
        "\n",
        "model_1.add(Dense(128, activation=\"relu\")) \n",
        "model_1.add(Dense(32, activation=\"relu\")) \n",
        "\n",
        "model_1.add(Dense(num_classes, activation=\"sigmoid\"))"
      ]
    },
    {
      "cell_type": "markdown",
      "metadata": {
        "id": "WTvFbXIZKLIb"
      },
      "source": [
        "Compilamos el modelo usando como optimizer adam que es el más común, para loss categorical_crossentropy que es el más adecuado y añadimos accuracy como metrics. "
      ]
    },
    {
      "cell_type": "code",
      "execution_count": null,
      "metadata": {
        "id": "1TgL4v4hk3kV"
      },
      "outputs": [],
      "source": [
        "\n",
        "model_1.compile(optimizer='adam', loss='categorical_crossentropy', metrics=['accuracy'])"
      ]
    },
    {
      "cell_type": "code",
      "execution_count": null,
      "metadata": {
        "colab": {
          "base_uri": "https://localhost:8080/"
        },
        "id": "XSc2-QVak8TV",
        "outputId": "de58c275-9a2a-4b9f-e24d-0888be49d9c3"
      },
      "outputs": [
        {
          "name": "stdout",
          "output_type": "stream",
          "text": [
            "Model: \"sequential_7\"\n",
            "_________________________________________________________________\n",
            " Layer (type)                Output Shape              Param #   \n",
            "=================================================================\n",
            " conv2d_17 (Conv2D)          (None, 62, 62, 32)        320       \n",
            "                                                                 \n",
            " max_pooling2d_12 (MaxPoolin  (None, 31, 31, 32)       0         \n",
            " g2D)                                                            \n",
            "                                                                 \n",
            " conv2d_18 (Conv2D)          (None, 29, 29, 32)        9248      \n",
            "                                                                 \n",
            " max_pooling2d_13 (MaxPoolin  (None, 15, 15, 32)       0         \n",
            " g2D)                                                            \n",
            "                                                                 \n",
            " flatten_7 (Flatten)         (None, 7200)              0         \n",
            "                                                                 \n",
            " dense_21 (Dense)            (None, 128)               921728    \n",
            "                                                                 \n",
            " dense_22 (Dense)            (None, 32)                4128      \n",
            "                                                                 \n",
            " dense_23 (Dense)            (None, 2)                 66        \n",
            "                                                                 \n",
            "=================================================================\n",
            "Total params: 935,490\n",
            "Trainable params: 935,490\n",
            "Non-trainable params: 0\n",
            "_________________________________________________________________\n",
            "None\n"
          ]
        }
      ],
      "source": [
        "print(model_1.summary())"
      ]
    },
    {
      "cell_type": "markdown",
      "metadata": {
        "id": "pjtYobCzb6uq"
      },
      "source": [
        "El número de parámetros es aceptable, se nos pedía al menos 60000 y tenemos 935,490."
      ]
    },
    {
      "cell_type": "markdown",
      "metadata": {
        "id": "eEA68N1FiekI"
      },
      "source": [
        "Procedemos al entrenamiento de la red neuronal. "
      ]
    },
    {
      "cell_type": "code",
      "execution_count": null,
      "metadata": {
        "colab": {
          "base_uri": "https://localhost:8080/"
        },
        "id": "wyJi5rt5ljFl",
        "outputId": "0dd31bfc-1b2b-45fe-c97d-7933ab174345"
      },
      "outputs": [
        {
          "name": "stdout",
          "output_type": "stream",
          "text": [
            "Epoch 1/25\n",
            "60/60 [==============================] - 1s 9ms/step - loss: 0.6893 - accuracy: 0.5233 - val_loss: 0.6399 - val_accuracy: 0.7200\n",
            "Epoch 2/25\n",
            "60/60 [==============================] - 0s 5ms/step - loss: 0.5673 - accuracy: 0.7217 - val_loss: 0.5042 - val_accuracy: 0.7700\n",
            "Epoch 3/25\n",
            "60/60 [==============================] - 0s 4ms/step - loss: 0.4958 - accuracy: 0.7567 - val_loss: 0.5340 - val_accuracy: 0.7700\n",
            "Epoch 4/25\n",
            "60/60 [==============================] - 0s 4ms/step - loss: 0.5325 - accuracy: 0.7333 - val_loss: 0.5550 - val_accuracy: 0.7400\n",
            "Epoch 5/25\n",
            "60/60 [==============================] - 0s 4ms/step - loss: 0.4995 - accuracy: 0.7500 - val_loss: 0.4647 - val_accuracy: 0.8000\n",
            "Epoch 6/25\n",
            "60/60 [==============================] - 0s 4ms/step - loss: 0.4555 - accuracy: 0.7833 - val_loss: 0.4918 - val_accuracy: 0.8300\n",
            "Epoch 7/25\n",
            "60/60 [==============================] - 0s 5ms/step - loss: 0.3992 - accuracy: 0.8117 - val_loss: 0.5522 - val_accuracy: 0.7900\n",
            "Epoch 8/25\n",
            "60/60 [==============================] - 0s 4ms/step - loss: 0.4008 - accuracy: 0.8150 - val_loss: 0.4369 - val_accuracy: 0.8100\n",
            "Epoch 9/25\n",
            "60/60 [==============================] - 0s 4ms/step - loss: 0.3291 - accuracy: 0.8667 - val_loss: 0.4491 - val_accuracy: 0.7900\n",
            "Epoch 10/25\n",
            "60/60 [==============================] - 0s 4ms/step - loss: 0.3169 - accuracy: 0.8717 - val_loss: 0.4505 - val_accuracy: 0.8000\n",
            "Epoch 11/25\n",
            "60/60 [==============================] - 0s 5ms/step - loss: 0.2613 - accuracy: 0.8950 - val_loss: 0.5246 - val_accuracy: 0.7800\n",
            "Epoch 12/25\n",
            "60/60 [==============================] - 0s 4ms/step - loss: 0.2603 - accuracy: 0.8967 - val_loss: 0.4850 - val_accuracy: 0.8000\n",
            "Epoch 13/25\n",
            "60/60 [==============================] - 0s 4ms/step - loss: 0.2211 - accuracy: 0.9133 - val_loss: 0.6649 - val_accuracy: 0.7700\n",
            "Epoch 14/25\n",
            "60/60 [==============================] - 0s 4ms/step - loss: 0.2066 - accuracy: 0.9133 - val_loss: 0.5625 - val_accuracy: 0.7500\n",
            "Epoch 15/25\n",
            "60/60 [==============================] - 0s 4ms/step - loss: 0.1804 - accuracy: 0.9350 - val_loss: 0.6116 - val_accuracy: 0.8000\n",
            "Epoch 16/25\n",
            "60/60 [==============================] - 0s 4ms/step - loss: 0.1218 - accuracy: 0.9483 - val_loss: 0.4650 - val_accuracy: 0.8600\n",
            "Epoch 17/25\n",
            "60/60 [==============================] - 0s 4ms/step - loss: 0.0937 - accuracy: 0.9683 - val_loss: 0.6457 - val_accuracy: 0.7700\n",
            "Epoch 18/25\n",
            "60/60 [==============================] - 0s 4ms/step - loss: 0.0704 - accuracy: 0.9700 - val_loss: 0.7012 - val_accuracy: 0.8200\n",
            "Epoch 19/25\n",
            "60/60 [==============================] - 0s 4ms/step - loss: 0.1141 - accuracy: 0.9567 - val_loss: 0.6593 - val_accuracy: 0.7800\n",
            "Epoch 20/25\n",
            "60/60 [==============================] - 0s 4ms/step - loss: 0.0505 - accuracy: 0.9833 - val_loss: 0.7240 - val_accuracy: 0.8200\n",
            "Epoch 21/25\n",
            "60/60 [==============================] - 0s 4ms/step - loss: 0.0362 - accuracy: 0.9817 - val_loss: 0.7880 - val_accuracy: 0.8400\n",
            "Epoch 22/25\n",
            "60/60 [==============================] - 0s 4ms/step - loss: 0.0598 - accuracy: 0.9717 - val_loss: 0.8246 - val_accuracy: 0.8100\n",
            "Epoch 23/25\n",
            "60/60 [==============================] - 0s 4ms/step - loss: 0.1127 - accuracy: 0.9550 - val_loss: 0.8155 - val_accuracy: 0.7600\n",
            "Epoch 24/25\n",
            "60/60 [==============================] - 0s 4ms/step - loss: 0.0473 - accuracy: 0.9883 - val_loss: 0.9723 - val_accuracy: 0.8000\n",
            "Epoch 25/25\n",
            "60/60 [==============================] - 0s 4ms/step - loss: 0.0225 - accuracy: 0.9933 - val_loss: 0.7892 - val_accuracy: 0.8300\n"
          ]
        }
      ],
      "source": [
        "n_epochs = 25\n",
        "mfit_1 = model_1.fit(x_train, y_train, validation_data=(x_test, y_test), batch_size=10, epochs=n_epochs)"
      ]
    },
    {
      "cell_type": "markdown",
      "metadata": {
        "id": "rlC8BrakKm1W"
      },
      "source": [
        "#### Modelo 2: \n",
        "\n",
        "Como segundo modelo propongo añadir otra capa convolucional con 32 unidades. "
      ]
    },
    {
      "cell_type": "code",
      "execution_count": null,
      "metadata": {
        "id": "BZ69ZWmfkyuV"
      },
      "outputs": [],
      "source": [
        "num_classes = 2\n",
        "model_2 = Sequential()\n",
        "\n",
        "model_2.add(Conv2D(32, kernel_size=3, activation=\"relu\", input_shape=(64,64,1)))\n",
        "model_2.add(MaxPooling2D((2,2), padding=\"same\"))\n",
        "\n",
        "model_2.add(Conv2D(32, kernel_size=3, activation=\"relu\"))\n",
        "model_2.add(MaxPooling2D((2,2), padding=\"same\"))\n",
        "\n",
        "model_2.add(Conv2D(32, kernel_size=3, activation=\"relu\"))\n",
        "model_2.add(Flatten())\n",
        "\n",
        "model_2.add(Dense(128, activation=\"relu\"))\n",
        "model_2.add(Dense(32, activation=\"relu\"))\n",
        "\n",
        "model_2.add(Dense(num_classes, activation=\"sigmoid\"))"
      ]
    },
    {
      "cell_type": "code",
      "execution_count": null,
      "metadata": {
        "id": "0Y7FJp3HlXKX"
      },
      "outputs": [],
      "source": [
        "\n",
        "model_2.compile(optimizer='adam', loss='categorical_crossentropy', metrics=['accuracy'])"
      ]
    },
    {
      "cell_type": "code",
      "execution_count": null,
      "metadata": {
        "colab": {
          "base_uri": "https://localhost:8080/"
        },
        "id": "S6BqFRyKlYdV",
        "outputId": "e7dba66c-f4e5-46d2-f3cd-88bd54c9abcb"
      },
      "outputs": [
        {
          "name": "stdout",
          "output_type": "stream",
          "text": [
            "Model: \"sequential_11\"\n",
            "_________________________________________________________________\n",
            " Layer (type)                Output Shape              Param #   \n",
            "=================================================================\n",
            " conv2d_28 (Conv2D)          (None, 62, 62, 32)        320       \n",
            "                                                                 \n",
            " max_pooling2d_22 (MaxPoolin  (None, 31, 31, 32)       0         \n",
            " g2D)                                                            \n",
            "                                                                 \n",
            " conv2d_29 (Conv2D)          (None, 29, 29, 32)        9248      \n",
            "                                                                 \n",
            " max_pooling2d_23 (MaxPoolin  (None, 15, 15, 32)       0         \n",
            " g2D)                                                            \n",
            "                                                                 \n",
            " conv2d_30 (Conv2D)          (None, 13, 13, 32)        9248      \n",
            "                                                                 \n",
            " flatten_11 (Flatten)        (None, 5408)              0         \n",
            "                                                                 \n",
            " dense_33 (Dense)            (None, 128)               692352    \n",
            "                                                                 \n",
            " dense_34 (Dense)            (None, 32)                4128      \n",
            "                                                                 \n",
            " dense_35 (Dense)            (None, 2)                 66        \n",
            "                                                                 \n",
            "=================================================================\n",
            "Total params: 715,362\n",
            "Trainable params: 715,362\n",
            "Non-trainable params: 0\n",
            "_________________________________________________________________\n",
            "None\n"
          ]
        }
      ],
      "source": [
        "print(model_2.summary())"
      ]
    },
    {
      "cell_type": "markdown",
      "metadata": {
        "id": "L4yTUHwPLgHy"
      },
      "source": [
        "Obtenemos 715,362 parámetros que es más que 60000 por tanto aceptamos el modelo y procedemos con el entrenamiento. "
      ]
    },
    {
      "cell_type": "code",
      "execution_count": null,
      "metadata": {
        "colab": {
          "base_uri": "https://localhost:8080/"
        },
        "id": "YgXqDwWcl9C_",
        "outputId": "d52cf6a5-6977-4414-f6dd-101400f83e92"
      },
      "outputs": [
        {
          "name": "stdout",
          "output_type": "stream",
          "text": [
            "Epoch 1/15\n",
            "60/60 [==============================] - 1s 7ms/step - loss: 0.6424 - accuracy: 0.5917 - val_loss: 0.5439 - val_accuracy: 0.7200\n",
            "Epoch 2/15\n",
            "60/60 [==============================] - 0s 5ms/step - loss: 0.5170 - accuracy: 0.7667 - val_loss: 0.4575 - val_accuracy: 0.7800\n",
            "Epoch 3/15\n",
            "60/60 [==============================] - 0s 4ms/step - loss: 0.5224 - accuracy: 0.7483 - val_loss: 0.4774 - val_accuracy: 0.7800\n",
            "Epoch 4/15\n",
            "60/60 [==============================] - 0s 5ms/step - loss: 0.4607 - accuracy: 0.7850 - val_loss: 0.4471 - val_accuracy: 0.8200\n",
            "Epoch 5/15\n",
            "60/60 [==============================] - 0s 4ms/step - loss: 0.4225 - accuracy: 0.7983 - val_loss: 0.4347 - val_accuracy: 0.7900\n",
            "Epoch 6/15\n",
            "60/60 [==============================] - 0s 4ms/step - loss: 0.4221 - accuracy: 0.8050 - val_loss: 0.4610 - val_accuracy: 0.8000\n",
            "Epoch 7/15\n",
            "60/60 [==============================] - 0s 5ms/step - loss: 0.3943 - accuracy: 0.8250 - val_loss: 0.4556 - val_accuracy: 0.8200\n",
            "Epoch 8/15\n",
            "60/60 [==============================] - 0s 4ms/step - loss: 0.3419 - accuracy: 0.8517 - val_loss: 0.4432 - val_accuracy: 0.8300\n",
            "Epoch 9/15\n",
            "60/60 [==============================] - 0s 5ms/step - loss: 0.3159 - accuracy: 0.8667 - val_loss: 0.5051 - val_accuracy: 0.7700\n",
            "Epoch 10/15\n",
            "60/60 [==============================] - 0s 4ms/step - loss: 0.2971 - accuracy: 0.8750 - val_loss: 0.4655 - val_accuracy: 0.8200\n",
            "Epoch 11/15\n",
            "60/60 [==============================] - 0s 4ms/step - loss: 0.2720 - accuracy: 0.8767 - val_loss: 0.4863 - val_accuracy: 0.7800\n",
            "Epoch 12/15\n",
            "60/60 [==============================] - 0s 4ms/step - loss: 0.2415 - accuracy: 0.9017 - val_loss: 0.5316 - val_accuracy: 0.8000\n",
            "Epoch 13/15\n",
            "60/60 [==============================] - 0s 4ms/step - loss: 0.2236 - accuracy: 0.9150 - val_loss: 0.5581 - val_accuracy: 0.8300\n",
            "Epoch 14/15\n",
            "60/60 [==============================] - 0s 4ms/step - loss: 0.2171 - accuracy: 0.9167 - val_loss: 0.4555 - val_accuracy: 0.8500\n",
            "Epoch 15/15\n",
            "60/60 [==============================] - 0s 5ms/step - loss: 0.1559 - accuracy: 0.9433 - val_loss: 0.6864 - val_accuracy: 0.8300\n"
          ]
        }
      ],
      "source": [
        "n_epochs = 15\n",
        "mfit_2 = model_2.fit(x_train, y_train, validation_data=(x_test, y_test), batch_size=10, epochs=n_epochs)"
      ]
    },
    {
      "cell_type": "markdown",
      "metadata": {
        "id": "HmxQtPLyM26Q"
      },
      "source": [
        "#### Evaluación de los modelos: "
      ]
    },
    {
      "cell_type": "markdown",
      "metadata": {
        "id": "-er0QxoaM9Vd"
      },
      "source": [
        "Mostramos gráficamente accuracy y loss de ambos modelos."
      ]
    },
    {
      "cell_type": "code",
      "execution_count": null,
      "metadata": {
        "id": "SfNH3wNinmEE"
      },
      "outputs": [],
      "source": [
        "def plot_prediction(n_epochs, mfit):\n",
        "    N = n_epochs\n",
        "    plt.style.use(\"ggplot\")\n",
        "    fig, (ax1, ax2) = plt.subplots(1, 2, figsize=(15,6))\n",
        "    fig.suptitle('Training Loss and Accuracy')\n",
        "    \n",
        "    ax1.plot(np.arange(0, N), mfit.history[\"accuracy\"], label=\"train\")\n",
        "    ax1.plot(np.arange(0, N), mfit.history[\"val_accuracy\"], label=\"val\")\n",
        "    ax1.set_title(\"Accuracy\")\n",
        "    ax1.set_xlabel(\"Epoch #\")\n",
        "    ax1.set_ylabel(\"Accuracy\")\n",
        "    ax1.legend(loc=\"lower right\")\n",
        "    \n",
        "    ax2.plot(np.arange(0, N), mfit.history[\"loss\"], label=\"train\")\n",
        "    ax2.plot(np.arange(0, N), mfit.history[\"val_loss\"], label=\"val\")\n",
        "    ax2.set_title(\"Loss\")\n",
        "    ax2.set_xlabel(\"Epoch #\")\n",
        "    ax2.set_ylabel(\"Loss\")\n",
        "    ax2.legend(loc=\"upper right\")\n",
        "    \n",
        "    plt.show()"
      ]
    },
    {
      "cell_type": "markdown",
      "metadata": {
        "id": "6dTim99uNHKq"
      },
      "source": [
        "#### Modelo 1: "
      ]
    },
    {
      "cell_type": "code",
      "execution_count": null,
      "metadata": {
        "colab": {
          "base_uri": "https://localhost:8080/",
          "height": 383
        },
        "id": "sbl6CMC2olhG",
        "outputId": "d7f577fb-3838-4e26-e13b-395e650f5108"
      },
      "outputs": [
        {
          "data": {
            "image/png": "[encoded data removed]",
            "text/plain": [
              "<Figure size 1080x432 with 2 Axes>"
            ]
          },
          "metadata": {},
          "output_type": "display_data"
        }
      ],
      "source": [
        "plot_prediction(n_epochs, mfit_1) \n"
      ]
    },
    {
      "cell_type": "markdown",
      "metadata": {
        "id": "vBwd4MYaJFlU"
      },
      "source": [
        "Observamos que la accuracy va subiendo más rápidamente en los primeros epochs y luego sigue creciendo aunque más lentamente. No se obtiene una línea plana o decreciente al final lo que indica que no hay overfitting aunque si podría haberlo si se siguiera entrenando. "
      ]
    },
    {
      "cell_type": "markdown",
      "metadata": {
        "id": "OncStqKsjmd5"
      },
      "source": [
        "#### Modelo 2: "
      ]
    },
    {
      "cell_type": "code",
      "execution_count": null,
      "metadata": {
        "colab": {
          "base_uri": "https://localhost:8080/",
          "height": 382
        },
        "id": "_lQZEelmosoM",
        "outputId": "ef4635b9-fbb0-49c4-8457-78b23d56efb5"
      },
      "outputs": [
        {
          "data": {
            "image/png": "[encoded data removed]",
            "text/plain": [
              "<Figure size 1080x432 with 2 Axes>"
            ]
          },
          "metadata": {},
          "output_type": "display_data"
        }
      ],
      "source": [
        "plot_prediction(n_epochs, mfit_2) \n"
      ]
    },
    {
      "cell_type": "markdown",
      "metadata": {
        "id": "C-A4hSadNSYG"
      },
      "source": [
        "Observamos que la accuracy de este modelo es buena, aunque existe un punto en la gráfica en la que se estanca el train y baja la val a partir del cual se podría decir que hay overfitting. Esto se podría mejorar entrenando con más datos, regularización, validación cruzada, etc. "
      ]
    },
    {
      "cell_type": "markdown",
      "metadata": {
        "id": "0HP-n_EBPU8E"
      },
      "source": [
        "Comprobamos con los datos de test que son datos que el modelo no ha visto antes para obtener la accuracy real de los modelos. "
      ]
    },
    {
      "cell_type": "code",
      "execution_count": null,
      "metadata": {
        "colab": {
          "base_uri": "https://localhost:8080/"
        },
        "id": "Zr3JrmuHOfYv",
        "outputId": "29f75795-4afe-4a38-a123-248658ce80e2"
      },
      "outputs": [
        {
          "name": "stdout",
          "output_type": "stream",
          "text": [
            "Evaluación del modelo 1: Test loss, Test accuracy: [0.7891781330108643, 0.8299999833106995]\n",
            "Evaluación del modelo 2: Test loss, Test accuracy: [0.6864421367645264, 0.8299999833106995]\n"
          ]
        }
      ],
      "source": [
        "eval_m1 = model_1.evaluate(x_test, y_test, verbose=0)\n",
        "\n",
        "eval_m2 = model_2.evaluate(x_test, y_test, verbose=0)\n",
        "\n",
        "print(\"Evaluación del modelo 1: Test loss, Test accuracy:\", eval_m1)\n",
        "print(\"Evaluación del modelo 2: Test loss, Test accuracy:\", eval_m2)"
      ]
    },
    {
      "cell_type": "markdown",
      "metadata": {
        "id": "J1CzcjXSPmsz"
      },
      "source": [
        "Observamos que la accuracy de ambos modelos es la misma 83%, se considera que debe ser del 80% o superior para que el modelo sea aceptable. \n",
        "\n",
        "En lo que difieren es en el loss osea la pérdida de aciertos que en el modelo 1 tiene un 79% y el modelo 2 mejora con un 69%. "
      ]
    },
    {
      "cell_type": "markdown",
      "metadata": {
        "id": "xftxAB4SQgsX"
      },
      "source": [
        "Procedemos a realizar una predicción."
      ]
    },
    {
      "cell_type": "code",
      "execution_count": null,
      "metadata": {
        "colab": {
          "base_uri": "https://localhost:8080/"
        },
        "id": "tiF70OyCfvIt",
        "outputId": "d3d27f38-471a-45fc-b957-29b2a6c95a23"
      },
      "outputs": [
        {
          "name": "stdout",
          "output_type": "stream",
          "text": [
            "4/4 [==============================] - 0s 4ms/step\n"
          ]
        }
      ],
      "source": [
        "y_prediction_m1 = model_1.predict(x_test)"
      ]
    },
    {
      "cell_type": "code",
      "execution_count": null,
      "metadata": {
        "colab": {
          "base_uri": "https://localhost:8080/"
        },
        "id": "MJ_4brLDgNUP",
        "outputId": "d12580dc-d8ca-4bb3-be1c-ba8abda48bfc"
      },
      "outputs": [
        {
          "data": {
            "text/plain": [
              "array([[3.7088146e-05, 9.9992323e-01],\n",
              "       [9.9922025e-01, 7.6926802e-04],\n",
              "       [1.5311708e-01, 8.3350319e-01],\n",
              "       [9.5880127e-01, 8.4013045e-02],\n",
              "       [1.2110150e-01, 9.2366272e-01],\n",
              "       [1.9521882e-01, 7.7077746e-01],\n",
              "       [9.3558252e-01, 1.1989833e-02],\n",
              "       [1.5671518e-02, 9.3200117e-01],\n",
              "       [9.8141313e-01, 3.2691658e-03]], dtype=float32)"
            ]
          },
          "execution_count": 126,
          "metadata": {},
          "output_type": "execute_result"
        }
      ],
      "source": [
        "y_prediction_m1[1:10]"
      ]
    },
    {
      "cell_type": "code",
      "execution_count": null,
      "metadata": {
        "colab": {
          "base_uri": "https://localhost:8080/"
        },
        "id": "0zv-IyK9QoC7",
        "outputId": "243659cc-516d-4dc1-ac9c-3d20f6e547f8"
      },
      "outputs": [
        {
          "name": "stdout",
          "output_type": "stream",
          "text": [
            "4/4 [==============================] - 0s 4ms/step\n"
          ]
        }
      ],
      "source": [
        "y_prediction_m2 = model_2.predict(x_test)"
      ]
    },
    {
      "cell_type": "code",
      "execution_count": null,
      "metadata": {
        "colab": {
          "base_uri": "https://localhost:8080/"
        },
        "id": "S--PQ6_oQspd",
        "outputId": "310b3379-215b-42cd-acf7-03bbf5ee0077"
      },
      "outputs": [
        {
          "data": {
            "text/plain": [
              "array([[8.3003403e-04, 9.9999952e-01],\n",
              "       [9.0753406e-01, 1.8403703e-02],\n",
              "       [3.9298221e-01, 4.6139228e-01],\n",
              "       [3.6908749e-01, 5.4143512e-01],\n",
              "       [1.0509948e-01, 9.8694211e-01],\n",
              "       [5.1042897e-01, 4.2323709e-01],\n",
              "       [9.1295385e-01, 3.7409134e-02],\n",
              "       [3.2044128e-02, 9.9827349e-01],\n",
              "       [7.4992764e-01, 1.8345974e-01]], dtype=float32)"
            ]
          },
          "execution_count": 128,
          "metadata": {},
          "output_type": "execute_result"
        }
      ],
      "source": [
        "y_prediction_m2[1:10]"
      ]
    },
    {
      "cell_type": "markdown",
      "metadata": {
        "id": "-ATI1hHjOP2P"
      },
      "source": [
        "#### Referencia: \n",
        "\n",
        "https://www.v7labs.com/blog/overfitting\n",
        "\n",
        "Referencias:\n",
        "https://www.tensorflow.org/api_docs/python/tf/keras/utils/image_dataset_from_directory\n",
        "\n",
        "https://www.tensorflow.org/api_docs/python/tf/keras/layers/Conv2D\n",
        "\n",
        "https://github.com/keras-team/keras/blob/v2.11.0/keras/layers/convolutional/conv2d.py#L29-L198\n",
        "\n",
        "https://github.com/keras-team/keras/blob/v2.11.0/keras/utils/image_dataset.py#L30-L323\n",
        "\n",
        "https://stackoverflow.com/questions/51348085/keras-tutorial-error-nameerror-name-layers-is-not-defined\n",
        "\n",
        "https://github.com/keras-team/keras/blob/v2.11.0/keras/losses.py#L947-L1032\n",
        "\n",
        "https://keras.io/api/callbacks/reduce_lr_on_plateau/\n",
        "\n",
        "https://www.tensorflow.org/api_docs/python/tf/keras/callbacks/ReduceLROnPlateau\n",
        "\n",
        "https://github.com/keras-team/keras/blob/v2.11.0/keras/callbacks.py#L2905-L3042\n",
        "\n",
        "https://scikit-learn.org/stable/modules/generated/sklearn.model_selection.train_test_split.html"
      ]
    },
    {
      "cell_type": "markdown",
      "metadata": {
        "id": "AlEXbxy2VFbz"
      },
      "source": [
        "### Salida del pdf"
      ]
    },
    {
      "cell_type": "code",
      "execution_count": 1,
      "metadata": {
        "colab": {
          "base_uri": "https://localhost:8080/"
        },
        "id": "21qxpjbLaoX4",
        "outputId": "65415c37-0266-425a-d36e-c7b3a6650721"
      },
      "outputs": [
        {
          "name": "stdout",
          "output_type": "stream",
          "text": [
            "Mounted at /content/drive\n"
          ]
        }
      ],
      "source": [
        "from google.colab import drive\n",
        "drive.mount('/content/drive')"
      ]
    },
    {
      "cell_type": "code",
      "execution_count": null,
      "metadata": {
        "colab": {
          "base_uri": "https://localhost:8080/"
        },
        "id": "15ONiGFedpA5",
        "outputId": "4ee70b54-7c4a-42d3-dded-32ed321b10a5"
      },
      "outputs": [
        {
          "name": "stdout",
          "output_type": "stream",
          "text": [
            "\u001b[0m\u001b[01;34mdrive\u001b[0m/  \u001b[01;34msample_data\u001b[0m/\n"
          ]
        }
      ],
      "source": [
        "ls"
      ]
    },
    {
      "cell_type": "code",
      "execution_count": null,
      "metadata": {
        "colab": {
          "base_uri": "https://localhost:8080/"
        },
        "id": "d9xMVtmDdxja",
        "outputId": "657685ec-fcb8-4ad6-e6f5-551f3e3be7bf"
      },
      "outputs": [
        {
          "name": "stdout",
          "output_type": "stream",
          "text": [
            "/content/drive/My Drive\n"
          ]
        }
      ],
      "source": [
        "%cd drive/My\\ Drive/ # called magic code"
      ]
    },
    {
      "cell_type": "code",
      "execution_count": null,
      "metadata": {
        "colab": {
          "base_uri": "https://localhost:8080/"
        },
        "id": "7gNLm3GYeXPZ",
        "outputId": "0e626fb2-3fcf-4112-aa4d-d32e7f089aff"
      },
      "outputs": [
        {
          "name": "stdout",
          "output_type": "stream",
          "text": [
            "/content/drive/MyDrive/Colab Notebooks\n"
          ]
        }
      ],
      "source": [
        "%cd Colab\\ Notebooks"
      ]
    },
    {
      "cell_type": "code",
      "execution_count": null,
      "metadata": {
        "colab": {
          "base_uri": "https://localhost:8080/"
        },
        "id": "lz8wH4rEfIEX",
        "outputId": "22aefa9b-74f5-404f-d55e-0d0d995b3a37"
      },
      "outputs": [
        {
          "name": "stdout",
          "output_type": "stream",
          "text": [
            "/content/drive/MyDrive/Colab Notebooks\n"
          ]
        }
      ],
      "source": [
        "!pwd"
      ]
    },
    {
      "cell_type": "code",
      "execution_count": 7,
      "metadata": {
        "colab": {
          "base_uri": "https://localhost:8080/"
        },
        "id": "SnJXqIBOcNeA",
        "outputId": "5b1cb345-0c31-41d6-cc78-51ae038a37d0"
      },
      "outputs": [
        {
          "name": "stdout",
          "output_type": "stream",
          "text": [
            "Reading package lists... Done\n",
            "Building dependency tree       \n",
            "Reading state information... Done\n",
            "The following package was automatically installed and is no longer required:\n",
            "  libnvidia-common-460\n",
            "Use 'sudo apt autoremove' to remove it.\n",
            "The following additional packages will be installed:\n",
            "  fonts-droid-fallback fonts-lato fonts-lmodern fonts-noto-mono fonts-texgyre\n",
            "  javascript-common libcupsfilters1 libcupsimage2 libgs9 libgs9-common\n",
            "  libijs-0.35 libjbig2dec0 libjs-jquery libkpathsea6 libpotrace0 libptexenc1\n",
            "  libruby2.5 libsynctex1 libtexlua52 libtexluajit2 libzzip-0-13 lmodern\n",
            "  poppler-data preview-latex-style rake ruby ruby-did-you-mean ruby-minitest\n",
            "  ruby-net-telnet ruby-power-assert ruby-test-unit ruby2.5\n",
            "  rubygems-integration t1utils tex-common tex-gyre texlive-base\n",
            "  texlive-binaries texlive-latex-base texlive-latex-extra\n",
            "  texlive-latex-recommended texlive-pictures texlive-plain-generic tipa\n",
            "Suggested packages:\n",
            "  fonts-noto apache2 | lighttpd | httpd poppler-utils ghostscript\n",
            "  fonts-japanese-mincho | fonts-ipafont-mincho fonts-japanese-gothic\n",
            "  | fonts-ipafont-gothic fonts-arphic-ukai fonts-arphic-uming fonts-nanum ri\n",
            "  ruby-dev bundler debhelper gv | postscript-viewer perl-tk xpdf-reader\n",
            "  | pdf-viewer texlive-fonts-recommended-doc texlive-latex-base-doc\n",
            "  python-pygments icc-profiles libfile-which-perl\n",
            "  libspreadsheet-parseexcel-perl texlive-latex-extra-doc\n",
            "  texlive-latex-recommended-doc texlive-pstricks dot2tex prerex ruby-tcltk\n",
            "  | libtcltk-ruby texlive-pictures-doc vprerex\n",
            "The following NEW packages will be installed:\n",
            "  fonts-droid-fallback fonts-lato fonts-lmodern fonts-noto-mono fonts-texgyre\n",
            "  javascript-common libcupsfilters1 libcupsimage2 libgs9 libgs9-common\n",
            "  libijs-0.35 libjbig2dec0 libjs-jquery libkpathsea6 libpotrace0 libptexenc1\n",
            "  libruby2.5 libsynctex1 libtexlua52 libtexluajit2 libzzip-0-13 lmodern\n",
            "  poppler-data preview-latex-style rake ruby ruby-did-you-mean ruby-minitest\n",
            "  ruby-net-telnet ruby-power-assert ruby-test-unit ruby2.5\n",
            "  rubygems-integration t1utils tex-common tex-gyre texlive-base\n",
            "  texlive-binaries texlive-fonts-recommended texlive-generic-recommended\n",
            "  texlive-latex-base texlive-latex-extra texlive-latex-recommended\n",
            "  texlive-pictures texlive-plain-generic texlive-xetex tipa\n",
            "0 upgraded, 47 newly installed, 0 to remove and 11 not upgraded.\n",
            "Need to get 146 MB of archives.\n",
            "After this operation, 460 MB of additional disk space will be used.\n",
            "Get:1 http://archive.ubuntu.com/ubuntu bionic/main amd64 fonts-droid-fallback all 1:6.0.1r16-1.1 [1,805 kB]\n",
            "Get:2 http://archive.ubuntu.com/ubuntu bionic/main amd64 fonts-lato all 2.0-2 [2,698 kB]\n",
            "Get:3 http://archive.ubuntu.com/ubuntu bionic/main amd64 poppler-data all 0.4.8-2 [1,479 kB]\n",
            "Get:4 http://archive.ubuntu.com/ubuntu bionic/main amd64 tex-common all 6.09 [33.0 kB]\n",
            "Get:5 http://archive.ubuntu.com/ubuntu bionic/main amd64 fonts-lmodern all 2.004.5-3 [4,551 kB]\n",
            "Get:6 http://archive.ubuntu.com/ubuntu bionic/main amd64 fonts-noto-mono all 20171026-2 [75.5 kB]\n",
            "Get:7 http://archive.ubuntu.com/ubuntu bionic/universe amd64 fonts-texgyre all 20160520-1 [8,761 kB]\n",
            "Get:8 http://archive.ubuntu.com/ubuntu bionic/main amd64 javascript-common all 11 [6,066 B]\n",
            "Get:9 http://archive.ubuntu.com/ubuntu bionic-updates/main amd64 libcupsfilters1 amd64 1.20.2-0ubuntu3.1 [108 kB]\n",
            "Get:10 http://archive.ubuntu.com/ubuntu bionic-updates/main amd64 libcupsimage2 amd64 2.2.7-1ubuntu2.9 [18.6 kB]\n",
            "Get:11 http://archive.ubuntu.com/ubuntu bionic/main amd64 libijs-0.35 amd64 0.35-13 [15.5 kB]\n",
            "Get:12 http://archive.ubuntu.com/ubuntu bionic/main amd64 libjbig2dec0 amd64 0.13-6 [55.9 kB]\n",
            "Get:13 http://archive.ubuntu.com/ubuntu bionic-updates/main amd64 libgs9-common all 9.26~dfsg+0-0ubuntu0.18.04.17 [5,092 kB]\n",
            "Get:14 http://archive.ubuntu.com/ubuntu bionic-updates/main amd64 libgs9 amd64 9.26~dfsg+0-0ubuntu0.18.04.17 [2,267 kB]\n",
            "Get:15 http://archive.ubuntu.com/ubuntu bionic/main amd64 libjs-jquery all 3.2.1-1 [152 kB]\n",
            "Get:16 http://archive.ubuntu.com/ubuntu bionic-updates/main amd64 libkpathsea6 amd64 2017.20170613.44572-8ubuntu0.1 [54.9 kB]\n",
            "Get:17 http://archive.ubuntu.com/ubuntu bionic/main amd64 libpotrace0 amd64 1.14-2 [17.4 kB]\n",
            "Get:18 http://archive.ubuntu.com/ubuntu bionic-updates/main amd64 libptexenc1 amd64 2017.20170613.44572-8ubuntu0.1 [34.5 kB]\n",
            "Get:19 http://archive.ubuntu.com/ubuntu bionic/main amd64 rubygems-integration all 1.11 [4,994 B]\n",
            "Get:20 http://archive.ubuntu.com/ubuntu bionic-updates/main amd64 ruby2.5 amd64 2.5.1-1ubuntu1.12 [48.6 kB]\n",
            "Get:21 http://archive.ubuntu.com/ubuntu bionic/main amd64 ruby amd64 1:2.5.1 [5,712 B]\n",
            "Get:22 http://archive.ubuntu.com/ubuntu bionic-updates/main amd64 rake all 12.3.1-1ubuntu0.1 [44.9 kB]\n",
            "Get:23 http://archive.ubuntu.com/ubuntu bionic/main amd64 ruby-did-you-mean all 1.2.0-2 [9,700 B]\n",
            "Get:24 http://archive.ubuntu.com/ubuntu bionic/main amd64 ruby-minitest all 5.10.3-1 [38.6 kB]\n",
            "Get:25 http://archive.ubuntu.com/ubuntu bionic/main amd64 ruby-net-telnet all 0.1.1-2 [12.6 kB]\n",
            "Get:26 http://archive.ubuntu.com/ubuntu bionic/main amd64 ruby-power-assert all 0.3.0-1 [7,952 B]\n",
            "Get:27 http://archive.ubuntu.com/ubuntu bionic/main amd64 ruby-test-unit all 3.2.5-1 [61.1 kB]\n",
            "Get:28 http://archive.ubuntu.com/ubuntu bionic-updates/main amd64 libruby2.5 amd64 2.5.1-1ubuntu1.12 [3,073 kB]\n",
            "Get:29 http://archive.ubuntu.com/ubuntu bionic-updates/main amd64 libsynctex1 amd64 2017.20170613.44572-8ubuntu0.1 [41.4 kB]\n",
            "Get:30 http://archive.ubuntu.com/ubuntu bionic-updates/main amd64 libtexlua52 amd64 2017.20170613.44572-8ubuntu0.1 [91.2 kB]\n",
            "Get:31 http://archive.ubuntu.com/ubuntu bionic-updates/main amd64 libtexluajit2 amd64 2017.20170613.44572-8ubuntu0.1 [230 kB]\n",
            "Get:32 http://archive.ubuntu.com/ubuntu bionic-updates/main amd64 libzzip-0-13 amd64 0.13.62-3.1ubuntu0.18.04.1 [26.0 kB]\n",
            "Get:33 http://archive.ubuntu.com/ubuntu bionic/main amd64 lmodern all 2.004.5-3 [9,631 kB]\n",
            "Get:34 http://archive.ubuntu.com/ubuntu bionic/main amd64 preview-latex-style all 11.91-1ubuntu1 [185 kB]\n",
            "Get:35 http://archive.ubuntu.com/ubuntu bionic/main amd64 t1utils amd64 1.41-2 [56.0 kB]\n",
            "Get:36 http://archive.ubuntu.com/ubuntu bionic/universe amd64 tex-gyre all 20160520-1 [4,998 kB]\n",
            "Get:37 http://archive.ubuntu.com/ubuntu bionic-updates/main amd64 texlive-binaries amd64 2017.20170613.44572-8ubuntu0.1 [8,179 kB]\n",
            "Get:38 http://archive.ubuntu.com/ubuntu bionic/main amd64 texlive-base all 2017.20180305-1 [18.7 MB]\n",
            "Get:39 http://archive.ubuntu.com/ubuntu bionic/universe amd64 texlive-fonts-recommended all 2017.20180305-1 [5,262 kB]\n",
            "Get:40 http://archive.ubuntu.com/ubuntu bionic/universe amd64 texlive-plain-generic all 2017.20180305-2 [23.6 MB]\n",
            "Get:41 http://archive.ubuntu.com/ubuntu bionic/universe amd64 texlive-generic-recommended all 2017.20180305-1 [15.9 kB]\n",
            "Get:42 http://archive.ubuntu.com/ubuntu bionic/main amd64 texlive-latex-base all 2017.20180305-1 [951 kB]\n",
            "Get:43 http://archive.ubuntu.com/ubuntu bionic/main amd64 texlive-latex-recommended all 2017.20180305-1 [14.9 MB]\n",
            "Get:44 http://archive.ubuntu.com/ubuntu bionic/universe amd64 texlive-pictures all 2017.20180305-1 [4,026 kB]\n",
            "Get:45 http://archive.ubuntu.com/ubuntu bionic/universe amd64 texlive-latex-extra all 2017.20180305-2 [10.6 MB]\n",
            "Get:46 http://archive.ubuntu.com/ubuntu bionic/universe amd64 tipa all 2:1.3-20 [2,978 kB]\n",
            "Get:47 http://archive.ubuntu.com/ubuntu bionic/universe amd64 texlive-xetex all 2017.20180305-1 [10.7 MB]\n",
            "Fetched 146 MB in 5s (31.4 MB/s)\n",
            "debconf: unable to initialize frontend: Dialog\n",
            "debconf: (No usable dialog-like program is installed, so the dialog based frontend cannot be used. at /usr/share/perl5/Debconf/FrontEnd/Dialog.pm line 76, <> line 47.)\n",
            "debconf: falling back to frontend: Readline\n",
            "debconf: unable to initialize frontend: Readline\n",
            "debconf: (This frontend requires a controlling tty.)\n",
            "debconf: falling back to frontend: Teletype\n",
            "dpkg-preconfigure: unable to re-open stdin: \n",
            "Selecting previously unselected package fonts-droid-fallback.\n",
            "(Reading database ... 124013 files and directories currently installed.)\n",
            "Preparing to unpack .../00-fonts-droid-fallback_1%3a6.0.1r16-1.1_all.deb ...\n",
            "Unpacking fonts-droid-fallback (1:6.0.1r16-1.1) ...\n",
            "Selecting previously unselected package fonts-lato.\n",
            "Preparing to unpack .../01-fonts-lato_2.0-2_all.deb ...\n",
            "Unpacking fonts-lato (2.0-2) ...\n",
            "Selecting previously unselected package poppler-data.\n",
            "Preparing to unpack .../02-poppler-data_0.4.8-2_all.deb ...\n",
            "Unpacking poppler-data (0.4.8-2) ...\n",
            "Selecting previously unselected package tex-common.\n",
            "Preparing to unpack .../03-tex-common_6.09_all.deb ...\n",
            "Unpacking tex-common (6.09) ...\n",
            "Selecting previously unselected package fonts-lmodern.\n",
            "Preparing to unpack .../04-fonts-lmodern_2.004.5-3_all.deb ...\n",
            "Unpacking fonts-lmodern (2.004.5-3) ...\n",
            "Selecting previously unselected package fonts-noto-mono.\n",
            "Preparing to unpack .../05-fonts-noto-mono_20171026-2_all.deb ...\n",
            "Unpacking fonts-noto-mono (20171026-2) ...\n",
            "Selecting previously unselected package fonts-texgyre.\n",
            "Preparing to unpack .../06-fonts-texgyre_20160520-1_all.deb ...\n",
            "Unpacking fonts-texgyre (20160520-1) ...\n",
            "Selecting previously unselected package javascript-common.\n",
            "Preparing to unpack .../07-javascript-common_11_all.deb ...\n",
            "Unpacking javascript-common (11) ...\n",
            "Selecting previously unselected package libcupsfilters1:amd64.\n",
            "Preparing to unpack .../08-libcupsfilters1_1.20.2-0ubuntu3.1_amd64.deb ...\n",
            "Unpacking libcupsfilters1:amd64 (1.20.2-0ubuntu3.1) ...\n",
            "Selecting previously unselected package libcupsimage2:amd64.\n",
            "Preparing to unpack .../09-libcupsimage2_2.2.7-1ubuntu2.9_amd64.deb ...\n",
            "Unpacking libcupsimage2:amd64 (2.2.7-1ubuntu2.9) ...\n",
            "Selecting previously unselected package libijs-0.35:amd64.\n",
            "Preparing to unpack .../10-libijs-0.35_0.35-13_amd64.deb ...\n",
            "Unpacking libijs-0.35:amd64 (0.35-13) ...\n",
            "Selecting previously unselected package libjbig2dec0:amd64.\n",
            "Preparing to unpack .../11-libjbig2dec0_0.13-6_amd64.deb ...\n",
            "Unpacking libjbig2dec0:amd64 (0.13-6) ...\n",
            "Selecting previously unselected package libgs9-common.\n",
            "Preparing to unpack .../12-libgs9-common_9.26~dfsg+0-0ubuntu0.18.04.17_all.deb ...\n",
            "Unpacking libgs9-common (9.26~dfsg+0-0ubuntu0.18.04.17) ...\n",
            "Selecting previously unselected package libgs9:amd64.\n",
            "Preparing to unpack .../13-libgs9_9.26~dfsg+0-0ubuntu0.18.04.17_amd64.deb ...\n",
            "Unpacking libgs9:amd64 (9.26~dfsg+0-0ubuntu0.18.04.17) ...\n",
            "Selecting previously unselected package libjs-jquery.\n",
            "Preparing to unpack .../14-libjs-jquery_3.2.1-1_all.deb ...\n",
            "Unpacking libjs-jquery (3.2.1-1) ...\n",
            "Selecting previously unselected package libkpathsea6:amd64.\n",
            "Preparing to unpack .../15-libkpathsea6_2017.20170613.44572-8ubuntu0.1_amd64.deb ...\n",
            "Unpacking libkpathsea6:amd64 (2017.20170613.44572-8ubuntu0.1) ...\n",
            "Selecting previously unselected package libpotrace0.\n",
            "Preparing to unpack .../16-libpotrace0_1.14-2_amd64.deb ...\n",
            "Unpacking libpotrace0 (1.14-2) ...\n",
            "Selecting previously unselected package libptexenc1:amd64.\n",
            "Preparing to unpack .../17-libptexenc1_2017.20170613.44572-8ubuntu0.1_amd64.deb ...\n",
            "Unpacking libptexenc1:amd64 (2017.20170613.44572-8ubuntu0.1) ...\n",
            "Selecting previously unselected package rubygems-integration.\n",
            "Preparing to unpack .../18-rubygems-integration_1.11_all.deb ...\n",
            "Unpacking rubygems-integration (1.11) ...\n",
            "Selecting previously unselected package ruby2.5.\n",
            "Preparing to unpack .../19-ruby2.5_2.5.1-1ubuntu1.12_amd64.deb ...\n",
            "Unpacking ruby2.5 (2.5.1-1ubuntu1.12) ...\n",
            "Selecting previously unselected package ruby.\n",
            "Preparing to unpack .../20-ruby_1%3a2.5.1_amd64.deb ...\n",
            "Unpacking ruby (1:2.5.1) ...\n",
            "Selecting previously unselected package rake.\n",
            "Preparing to unpack .../21-rake_12.3.1-1ubuntu0.1_all.deb ...\n",
            "Unpacking rake (12.3.1-1ubuntu0.1) ...\n",
            "Selecting previously unselected package ruby-did-you-mean.\n",
            "Preparing to unpack .../22-ruby-did-you-mean_1.2.0-2_all.deb ...\n",
            "Unpacking ruby-did-you-mean (1.2.0-2) ...\n",
            "Selecting previously unselected package ruby-minitest.\n",
            "Preparing to unpack .../23-ruby-minitest_5.10.3-1_all.deb ...\n",
            "Unpacking ruby-minitest (5.10.3-1) ...\n",
            "Selecting previously unselected package ruby-net-telnet.\n",
            "Preparing to unpack .../24-ruby-net-telnet_0.1.1-2_all.deb ...\n",
            "Unpacking ruby-net-telnet (0.1.1-2) ...\n",
            "Selecting previously unselected package ruby-power-assert.\n",
            "Preparing to unpack .../25-ruby-power-assert_0.3.0-1_all.deb ...\n",
            "Unpacking ruby-power-assert (0.3.0-1) ...\n",
            "Selecting previously unselected package ruby-test-unit.\n",
            "Preparing to unpack .../26-ruby-test-unit_3.2.5-1_all.deb ...\n",
            "Unpacking ruby-test-unit (3.2.5-1) ...\n",
            "Selecting previously unselected package libruby2.5:amd64.\n",
            "Preparing to unpack .../27-libruby2.5_2.5.1-1ubuntu1.12_amd64.deb ...\n",
            "Unpacking libruby2.5:amd64 (2.5.1-1ubuntu1.12) ...\n",
            "Selecting previously unselected package libsynctex1:amd64.\n",
            "Preparing to unpack .../28-libsynctex1_2017.20170613.44572-8ubuntu0.1_amd64.deb ...\n",
            "Unpacking libsynctex1:amd64 (2017.20170613.44572-8ubuntu0.1) ...\n",
            "Selecting previously unselected package libtexlua52:amd64.\n",
            "Preparing to unpack .../29-libtexlua52_2017.20170613.44572-8ubuntu0.1_amd64.deb ...\n",
            "Unpacking libtexlua52:amd64 (2017.20170613.44572-8ubuntu0.1) ...\n",
            "Selecting previously unselected package libtexluajit2:amd64.\n",
            "Preparing to unpack .../30-libtexluajit2_2017.20170613.44572-8ubuntu0.1_amd64.deb ...\n",
            "Unpacking libtexluajit2:amd64 (2017.20170613.44572-8ubuntu0.1) ...\n",
            "Selecting previously unselected package libzzip-0-13:amd64.\n",
            "Preparing to unpack .../31-libzzip-0-13_0.13.62-3.1ubuntu0.18.04.1_amd64.deb ...\n",
            "Unpacking libzzip-0-13:amd64 (0.13.62-3.1ubuntu0.18.04.1) ...\n",
            "Selecting previously unselected package lmodern.\n",
            "Preparing to unpack .../32-lmodern_2.004.5-3_all.deb ...\n",
            "Unpacking lmodern (2.004.5-3) ...\n",
            "Selecting previously unselected package preview-latex-style.\n",
            "Preparing to unpack .../33-preview-latex-style_11.91-1ubuntu1_all.deb ...\n",
            "Unpacking preview-latex-style (11.91-1ubuntu1) ...\n",
            "Selecting previously unselected package t1utils.\n",
            "Preparing to unpack .../34-t1utils_1.41-2_amd64.deb ...\n",
            "Unpacking t1utils (1.41-2) ...\n",
            "Selecting previously unselected package tex-gyre.\n",
            "Preparing to unpack .../35-tex-gyre_20160520-1_all.deb ...\n",
            "Unpacking tex-gyre (20160520-1) ...\n",
            "Selecting previously unselected package texlive-binaries.\n",
            "Preparing to unpack .../36-texlive-binaries_2017.20170613.44572-8ubuntu0.1_amd64.deb ...\n",
            "Unpacking texlive-binaries (2017.20170613.44572-8ubuntu0.1) ...\n",
            "Selecting previously unselected package texlive-base.\n",
            "Preparing to unpack .../37-texlive-base_2017.20180305-1_all.deb ...\n",
            "Unpacking texlive-base (2017.20180305-1) ...\n",
            "Selecting previously unselected package texlive-fonts-recommended.\n",
            "Preparing to unpack .../38-texlive-fonts-recommended_2017.20180305-1_all.deb ...\n",
            "Unpacking texlive-fonts-recommended (2017.20180305-1) ...\n",
            "Selecting previously unselected package texlive-plain-generic.\n",
            "Preparing to unpack .../39-texlive-plain-generic_2017.20180305-2_all.deb ...\n",
            "Unpacking texlive-plain-generic (2017.20180305-2) ...\n",
            "Selecting previously unselected package texlive-generic-recommended.\n",
            "Preparing to unpack .../40-texlive-generic-recommended_2017.20180305-1_all.deb ...\n",
            "Unpacking texlive-generic-recommended (2017.20180305-1) ...\n",
            "Selecting previously unselected package texlive-latex-base.\n",
            "Preparing to unpack .../41-texlive-latex-base_2017.20180305-1_all.deb ...\n",
            "Unpacking texlive-latex-base (2017.20180305-1) ...\n",
            "Selecting previously unselected package texlive-latex-recommended.\n",
            "Preparing to unpack .../42-texlive-latex-recommended_2017.20180305-1_all.deb ...\n",
            "Unpacking texlive-latex-recommended (2017.20180305-1) ...\n",
            "Selecting previously unselected package texlive-pictures.\n",
            "Preparing to unpack .../43-texlive-pictures_2017.20180305-1_all.deb ...\n",
            "Unpacking texlive-pictures (2017.20180305-1) ...\n",
            "Selecting previously unselected package texlive-latex-extra.\n",
            "Preparing to unpack .../44-texlive-latex-extra_2017.20180305-2_all.deb ...\n",
            "Unpacking texlive-latex-extra (2017.20180305-2) ...\n",
            "Selecting previously unselected package tipa.\n",
            "Preparing to unpack .../45-tipa_2%3a1.3-20_all.deb ...\n",
            "Unpacking tipa (2:1.3-20) ...\n",
            "Selecting previously unselected package texlive-xetex.\n",
            "Preparing to unpack .../46-texlive-xetex_2017.20180305-1_all.deb ...\n",
            "Unpacking texlive-xetex (2017.20180305-1) ...\n",
            "Setting up libgs9-common (9.26~dfsg+0-0ubuntu0.18.04.17) ...\n",
            "Setting up libkpathsea6:amd64 (2017.20170613.44572-8ubuntu0.1) ...\n",
            "Setting up libjs-jquery (3.2.1-1) ...\n",
            "Setting up libtexlua52:amd64 (2017.20170613.44572-8ubuntu0.1) ...\n",
            "Setting up fonts-droid-fallback (1:6.0.1r16-1.1) ...\n",
            "Setting up libsynctex1:amd64 (2017.20170613.44572-8ubuntu0.1) ...\n",
            "Setting up libptexenc1:amd64 (2017.20170613.44572-8ubuntu0.1) ...\n",
            "Setting up tex-common (6.09) ...\n",
            "debconf: unable to initialize frontend: Dialog\n",
            "debconf: (No usable dialog-like program is installed, so the dialog based frontend cannot be used. at /usr/share/perl5/Debconf/FrontEnd/Dialog.pm line 76.)\n",
            "debconf: falling back to frontend: Readline\n",
            "update-language: texlive-base not installed and configured, doing nothing!\n",
            "Setting up poppler-data (0.4.8-2) ...\n",
            "Setting up tex-gyre (20160520-1) ...\n",
            "Setting up preview-latex-style (11.91-1ubuntu1) ...\n",
            "Setting up fonts-texgyre (20160520-1) ...\n",
            "Setting up fonts-noto-mono (20171026-2) ...\n",
            "Setting up fonts-lato (2.0-2) ...\n",
            "Setting up libcupsfilters1:amd64 (1.20.2-0ubuntu3.1) ...\n",
            "Setting up libcupsimage2:amd64 (2.2.7-1ubuntu2.9) ...\n",
            "Setting up libjbig2dec0:amd64 (0.13-6) ...\n",
            "Setting up ruby-did-you-mean (1.2.0-2) ...\n",
            "Setting up t1utils (1.41-2) ...\n",
            "Setting up ruby-net-telnet (0.1.1-2) ...\n",
            "Setting up libijs-0.35:amd64 (0.35-13) ...\n",
            "Setting up rubygems-integration (1.11) ...\n",
            "Setting up libpotrace0 (1.14-2) ...\n",
            "Setting up javascript-common (11) ...\n",
            "Setting up ruby-minitest (5.10.3-1) ...\n",
            "Setting up libzzip-0-13:amd64 (0.13.62-3.1ubuntu0.18.04.1) ...\n",
            "Setting up libgs9:amd64 (9.26~dfsg+0-0ubuntu0.18.04.17) ...\n",
            "Setting up libtexluajit2:amd64 (2017.20170613.44572-8ubuntu0.1) ...\n",
            "Setting up fonts-lmodern (2.004.5-3) ...\n",
            "Setting up ruby-power-assert (0.3.0-1) ...\n",
            "Setting up texlive-binaries (2017.20170613.44572-8ubuntu0.1) ...\n",
            "update-alternatives: using /usr/bin/xdvi-xaw to provide /usr/bin/xdvi.bin (xdvi.bin) in auto mode\n",
            "update-alternatives: using /usr/bin/bibtex.original to provide /usr/bin/bibtex (bibtex) in auto mode\n",
            "Setting up texlive-base (2017.20180305-1) ...\n",
            "mktexlsr: Updating /var/lib/texmf/ls-R-TEXLIVEDIST... \n",
            "mktexlsr: Updating /var/lib/texmf/ls-R-TEXMFMAIN... \n",
            "mktexlsr: Updating /var/lib/texmf/ls-R... \n",
            "mktexlsr: Done.\n",
            "tl-paper: setting paper size for dvips to a4: /var/lib/texmf/dvips/config/config-paper.ps\n",
            "tl-paper: setting paper size for dvipdfmx to a4: /var/lib/texmf/dvipdfmx/dvipdfmx-paper.cfg\n",
            "tl-paper: setting paper size for xdvi to a4: /var/lib/texmf/xdvi/XDvi-paper\n",
            "tl-paper: setting paper size for pdftex to a4: /var/lib/texmf/tex/generic/config/pdftexconfig.tex\n",
            "debconf: unable to initialize frontend: Dialog\n",
            "debconf: (No usable dialog-like program is installed, so the dialog based frontend cannot be used. at /usr/share/perl5/Debconf/FrontEnd/Dialog.pm line 76.)\n",
            "debconf: falling back to frontend: Readline\n",
            "Setting up texlive-fonts-recommended (2017.20180305-1) ...\n",
            "Setting up texlive-plain-generic (2017.20180305-2) ...\n",
            "Setting up texlive-generic-recommended (2017.20180305-1) ...\n",
            "Setting up texlive-latex-base (2017.20180305-1) ...\n",
            "Setting up lmodern (2.004.5-3) ...\n",
            "Setting up texlive-latex-recommended (2017.20180305-1) ...\n",
            "Setting up texlive-pictures (2017.20180305-1) ...\n",
            "Setting up tipa (2:1.3-20) ...\n",
            "Regenerating '/var/lib/texmf/fmtutil.cnf-DEBIAN'... done.\n",
            "Regenerating '/var/lib/texmf/fmtutil.cnf-TEXLIVEDIST'... done.\n",
            "update-fmtutil has updated the following file(s):\n",
            "\t/var/lib/texmf/fmtutil.cnf-DEBIAN\n",
            "\t/var/lib/texmf/fmtutil.cnf-TEXLIVEDIST\n",
            "If you want to activate the changes in the above file(s),\n",
            "you should run fmtutil-sys or fmtutil.\n",
            "Setting up texlive-latex-extra (2017.20180305-2) ...\n",
            "Setting up texlive-xetex (2017.20180305-1) ...\n",
            "Setting up ruby2.5 (2.5.1-1ubuntu1.12) ...\n",
            "Setting up ruby (1:2.5.1) ...\n",
            "Setting up ruby-test-unit (3.2.5-1) ...\n",
            "Setting up rake (12.3.1-1ubuntu0.1) ...\n",
            "Setting up libruby2.5:amd64 (2.5.1-1ubuntu1.12) ...\n",
            "Processing triggers for mime-support (3.60ubuntu1) ...\n",
            "Processing triggers for libc-bin (2.27-3ubuntu1.6) ...\n",
            "Processing triggers for man-db (2.8.3-2ubuntu0.1) ...\n",
            "Processing triggers for fontconfig (2.12.6-0ubuntu2) ...\n",
            "Processing triggers for tex-common (6.09) ...\n",
            "debconf: unable to initialize frontend: Dialog\n",
            "debconf: (No usable dialog-like program is installed, so the dialog based frontend cannot be used. at /usr/share/perl5/Debconf/FrontEnd/Dialog.pm line 76.)\n",
            "debconf: falling back to frontend: Readline\n",
            "Running updmap-sys. This may take some time... done.\n",
            "Running mktexlsr /var/lib/texmf ... done.\n",
            "Building format(s) --all.\n",
            "\tThis may take some time... done.\n"
          ]
        }
      ],
      "source": [
        "!sudo apt-get install texlive-xetex texlive-fonts-recommended texlive-generic-recommended"
      ]
    },
    {
      "cell_type": "code",
      "execution_count": 10,
      "metadata": {
        "colab": {
          "base_uri": "https://localhost:8080/"
        },
        "id": "KWBYBf9Ph0g3",
        "outputId": "1c52b851-61db-4460-b585-f25d4e4dac94"
      },
      "outputs": [
        {
          "name": "stdout",
          "output_type": "stream",
          "text": [
            "[NbConvertApp] Converting notebook PEC2.ipynb to html\n",
            "[NbConvertApp] Writing 768714 bytes to PEC2.html\n"
          ]
        }
      ],
      "source": [
        "!jupyter nbconvert --to html PEC2.ipynb"
      ]
    },
    {
      "cell_type": "code",
      "execution_count": 11,
      "metadata": {
        "colab": {
          "base_uri": "https://localhost:8080/"
        },
        "id": "IcEV2PgtfTcw",
        "outputId": "ccebaa59-7fe3-4a8a-e17e-2a35eccc0d24"
      },
      "outputs": [
        {
          "name": "stdout",
          "output_type": "stream",
          "text": [
            "[NbConvertApp] Converting notebook PEC2.ipynb to pdf\n",
            "[NbConvertApp] Support files will be in PEC2_files/\n",
            "[NbConvertApp] Making directory ./PEC2_files\n",
            "[NbConvertApp] Making directory ./PEC2_files\n",
            "[NbConvertApp] Making directory ./PEC2_files\n",
            "[NbConvertApp] Making directory ./PEC2_files\n",
            "[NbConvertApp] Making directory ./PEC2_files\n",
            "[NbConvertApp] Making directory ./PEC2_files\n",
            "[NbConvertApp] Writing 153359 bytes to ./notebook.tex\n",
            "[NbConvertApp] Building PDF\n",
            "[NbConvertApp] Running xelatex 3 times: ['xelatex', './notebook.tex', '-quiet']\n",
            "[NbConvertApp] CRITICAL | xelatex failed: ['xelatex', './notebook.tex', '-quiet']\n",
            "This is XeTeX, Version 3.14159265-2.6-0.99998 (TeX Live 2017/Debian) (preloaded format=xelatex)\n",
            " restricted \\write18 enabled.\n",
            "entering extended mode\n",
            "(./notebook.tex\n",
            "LaTeX2e <2017-04-15>\n",
            "Babel <3.18> and hyphenation patterns for 3 language(s) loaded.\n",
            "(/usr/share/texlive/texmf-dist/tex/latex/base/article.cls\n",
            "Document Class: article 2014/09/29 v1.4h Standard LaTeX document class\n",
            "(/usr/share/texlive/texmf-dist/tex/latex/base/size11.clo))\n",
            "(/usr/share/texlive/texmf-dist/tex/latex/tcolorbox/tcolorbox.sty\n",
            "(/usr/share/texlive/texmf-dist/tex/latex/pgf/basiclayer/pgf.sty\n",
            "(/usr/share/texlive/texmf-dist/tex/latex/pgf/utilities/pgfrcs.sty\n",
            "(/usr/share/texlive/texmf-dist/tex/generic/pgf/utilities/pgfutil-common.tex\n",
            "(/usr/share/texlive/texmf-dist/tex/generic/pgf/utilities/pgfutil-common-lists.t\n",
            "ex)) (/usr/share/texlive/texmf-dist/tex/generic/pgf/utilities/pgfutil-latex.def\n",
            "(/usr/share/texlive/texmf-dist/tex/latex/ms/everyshi.sty))\n",
            "(/usr/share/texlive/texmf-dist/tex/generic/pgf/utilities/pgfrcs.code.tex))\n",
            "(/usr/share/texlive/texmf-dist/tex/latex/pgf/basiclayer/pgfcore.sty\n",
            "(/usr/share/texlive/texmf-dist/tex/latex/graphics/graphicx.sty\n",
            "(/usr/share/texlive/texmf-dist/tex/latex/graphics/keyval.sty)\n",
            "(/usr/share/texlive/texmf-dist/tex/latex/graphics/graphics.sty\n",
            "(/usr/share/texlive/texmf-dist/tex/latex/graphics/trig.sty)\n",
            "(/usr/share/texlive/texmf-dist/tex/latex/graphics-cfg/graphics.cfg)\n",
            "(/usr/share/texlive/texmf-dist/tex/latex/graphics-def/xetex.def)))\n",
            "(/usr/share/texlive/texmf-dist/tex/latex/pgf/systemlayer/pgfsys.sty\n",
            "(/usr/share/texlive/texmf-dist/tex/generic/pgf/systemlayer/pgfsys.code.tex\n",
            "(/usr/share/texlive/texmf-dist/tex/generic/pgf/utilities/pgfkeys.code.tex\n",
            "(/usr/share/texlive/texmf-dist/tex/generic/pgf/utilities/pgfkeysfiltered.code.t\n",
            "ex)) (/usr/share/texlive/texmf-dist/tex/generic/pgf/systemlayer/pgf.cfg)\n",
            "(/usr/share/texlive/texmf-dist/tex/generic/pgf/systemlayer/pgfsys-xetex.def\n",
            "(/usr/share/texlive/texmf-dist/tex/generic/pgf/systemlayer/pgfsys-dvipdfmx.def\n",
            "(/usr/share/texlive/texmf-dist/tex/generic/pgf/systemlayer/pgfsys-common-pdf.de\n",
            "f))))\n",
            "(/usr/share/texlive/texmf-dist/tex/generic/pgf/systemlayer/pgfsyssoftpath.code.\n",
            "tex)\n",
            "(/usr/share/texlive/texmf-dist/tex/generic/pgf/systemlayer/pgfsysprotocol.code.\n",
            "tex)) (/usr/share/texlive/texmf-dist/tex/latex/xcolor/xcolor.sty\n",
            "(/usr/share/texlive/texmf-dist/tex/latex/graphics-cfg/color.cfg))\n",
            "(/usr/share/texlive/texmf-dist/tex/generic/pgf/basiclayer/pgfcore.code.tex\n",
            "(/usr/share/texlive/texmf-dist/tex/generic/pgf/math/pgfmath.code.tex\n",
            "(/usr/share/texlive/texmf-dist/tex/generic/pgf/math/pgfmathcalc.code.tex\n",
            "(/usr/share/texlive/texmf-dist/tex/generic/pgf/math/pgfmathutil.code.tex)\n",
            "(/usr/share/texlive/texmf-dist/tex/generic/pgf/math/pgfmathparser.code.tex)\n",
            "(/usr/share/texlive/texmf-dist/tex/generic/pgf/math/pgfmathfunctions.code.tex\n",
            "(/usr/share/texlive/texmf-dist/tex/generic/pgf/math/pgfmathfunctions.basic.code\n",
            ".tex)\n",
            "(/usr/share/texlive/texmf-dist/tex/generic/pgf/math/pgfmathfunctions.trigonomet\n",
            "ric.code.tex)\n",
            "(/usr/share/texlive/texmf-dist/tex/generic/pgf/math/pgfmathfunctions.random.cod\n",
            "e.tex)\n",
            "(/usr/share/texlive/texmf-dist/tex/generic/pgf/math/pgfmathfunctions.comparison\n",
            ".code.tex)\n",
            "(/usr/share/texlive/texmf-dist/tex/generic/pgf/math/pgfmathfunctions.base.code.\n",
            "tex)\n",
            "(/usr/share/texlive/texmf-dist/tex/generic/pgf/math/pgfmathfunctions.round.code\n",
            ".tex)\n",
            "(/usr/share/texlive/texmf-dist/tex/generic/pgf/math/pgfmathfunctions.misc.code.\n",
            "tex)\n",
            "(/usr/share/texlive/texmf-dist/tex/generic/pgf/math/pgfmathfunctions.integerari\n",
            "thmetics.code.tex)))\n",
            "(/usr/share/texlive/texmf-dist/tex/generic/pgf/math/pgfmathfloat.code.tex))\n",
            "(/usr/share/texlive/texmf-dist/tex/generic/pgf/basiclayer/pgfcorepoints.code.te\n",
            "x)\n",
            "(/usr/share/texlive/texmf-dist/tex/generic/pgf/basiclayer/pgfcorepathconstruct.\n",
            "code.tex)\n",
            "(/usr/share/texlive/texmf-dist/tex/generic/pgf/basiclayer/pgfcorepathusage.code\n",
            ".tex)\n",
            "(/usr/share/texlive/texmf-dist/tex/generic/pgf/basiclayer/pgfcorescopes.code.te\n",
            "x)\n",
            "(/usr/share/texlive/texmf-dist/tex/generic/pgf/basiclayer/pgfcoregraphicstate.c\n",
            "ode.tex)\n",
            "(/usr/share/texlive/texmf-dist/tex/generic/pgf/basiclayer/pgfcoretransformation\n",
            "s.code.tex)\n",
            "(/usr/share/texlive/texmf-dist/tex/generic/pgf/basiclayer/pgfcorequick.code.tex\n",
            ")\n",
            "(/usr/share/texlive/texmf-dist/tex/generic/pgf/basiclayer/pgfcoreobjects.code.t\n",
            "ex)\n",
            "(/usr/share/texlive/texmf-dist/tex/generic/pgf/basiclayer/pgfcorepathprocessing\n",
            ".code.tex)\n",
            "(/usr/share/texlive/texmf-dist/tex/generic/pgf/basiclayer/pgfcorearrows.code.te\n",
            "x)\n",
            "(/usr/share/texlive/texmf-dist/tex/generic/pgf/basiclayer/pgfcoreshade.code.tex\n",
            ")\n",
            "(/usr/share/texlive/texmf-dist/tex/generic/pgf/basiclayer/pgfcoreimage.code.tex\n",
            "\n",
            "(/usr/share/texlive/texmf-dist/tex/generic/pgf/basiclayer/pgfcoreexternal.code.\n",
            "tex))\n",
            "(/usr/share/texlive/texmf-dist/tex/generic/pgf/basiclayer/pgfcorelayers.code.te\n",
            "x)\n",
            "(/usr/share/texlive/texmf-dist/tex/generic/pgf/basiclayer/pgfcoretransparency.c\n",
            "ode.tex)\n",
            "(/usr/share/texlive/texmf-dist/tex/generic/pgf/basiclayer/pgfcorepatterns.code.\n",
            "tex)))\n",
            "(/usr/share/texlive/texmf-dist/tex/generic/pgf/modules/pgfmoduleshapes.code.tex\n",
            ") (/usr/share/texlive/texmf-dist/tex/generic/pgf/modules/pgfmoduleplot.code.tex\n",
            ")\n",
            "(/usr/share/texlive/texmf-dist/tex/latex/pgf/compatibility/pgfcomp-version-0-65\n",
            ".sty)\n",
            "(/usr/share/texlive/texmf-dist/tex/latex/pgf/compatibility/pgfcomp-version-1-18\n",
            ".sty)) (/usr/share/texlive/texmf-dist/tex/latex/tools/verbatim.sty)\n",
            "(/usr/share/texlive/texmf-dist/tex/latex/environ/environ.sty\n",
            "(/usr/share/texlive/texmf-dist/tex/latex/trimspaces/trimspaces.sty))\n",
            "(/usr/share/texlive/texmf-dist/tex/latex/etoolbox/etoolbox.sty)\n",
            "(/usr/share/texlive/texmf-dist/tex/latex/tcolorbox/tcbbreakable.code.tex\n",
            "Library (tcolorbox): 'tcbbreakable.code.tex' version '4.12'\n",
            ")) (/usr/share/texlive/texmf-dist/tex/latex/parskip/parskip.sty)\n",
            "(/usr/share/texlive/texmf-dist/tex/generic/iftex/iftex.sty)\n",
            "(/usr/share/texlive/texmf-dist/tex/latex/fontspec/fontspec.sty\n",
            "(/usr/share/texlive/texmf-dist/tex/latex/l3packages/xparse/xparse.sty\n",
            "(/usr/share/texlive/texmf-dist/tex/latex/l3kernel/expl3.sty\n",
            "(/usr/share/texlive/texmf-dist/tex/latex/l3kernel/expl3-code.tex)\n",
            "(/usr/share/texlive/texmf-dist/tex/latex/l3kernel/l3xdvipdfmx.def)))\n",
            "(/usr/share/texlive/texmf-dist/tex/latex/fontspec/fontspec-xetex.sty\n",
            "(/usr/share/texlive/texmf-dist/tex/latex/base/fontenc.sty\n",
            "(/usr/share/texlive/texmf-dist/tex/latex/base/tuenc.def))\n",
            "(/usr/share/texlive/texmf-dist/tex/latex/fontspec/fontspec.cfg)))\n",
            "(/usr/share/texlive/texmf-dist/tex/latex/caption/caption.sty\n",
            "(/usr/share/texlive/texmf-dist/tex/latex/caption/caption3.sty))\n",
            "(/usr/share/texlive/texmf-dist/tex/latex/adjustbox/adjustbox.sty\n",
            "(/usr/share/texlive/texmf-dist/tex/latex/xkeyval/xkeyval.sty\n",
            "(/usr/share/texlive/texmf-dist/tex/generic/xkeyval/xkeyval.tex\n",
            "(/usr/share/texlive/texmf-dist/tex/generic/xkeyval/xkvutils.tex)))\n",
            "(/usr/share/texlive/texmf-dist/tex/latex/adjustbox/adjcalc.sty)\n",
            "(/usr/share/texlive/texmf-dist/tex/latex/adjustbox/trimclip.sty\n",
            "(/usr/share/texlive/texmf-dist/tex/latex/collectbox/collectbox.sty)\n",
            "(/usr/share/texlive/texmf-dist/tex/latex/adjustbox/tc-xetex.def))\n",
            "(/usr/share/texlive/texmf-dist/tex/latex/ifoddpage/ifoddpage.sty)\n",
            "(/usr/share/texlive/texmf-dist/tex/latex/varwidth/varwidth.sty))\n",
            "(/usr/share/texlive/texmf-dist/tex/latex/float/float.sty)\n",
            "(/usr/share/texlive/texmf-dist/tex/latex/tools/enumerate.sty)\n",
            "(/usr/share/texlive/texmf-dist/tex/latex/geometry/geometry.sty\n",
            "(/usr/share/texlive/texmf-dist/tex/generic/oberdiek/ifpdf.sty)\n",
            "(/usr/share/texlive/texmf-dist/tex/generic/oberdiek/ifvtex.sty)\n",
            "(/usr/share/texlive/texmf-dist/tex/generic/ifxetex/ifxetex.sty))\n",
            "(/usr/share/texlive/texmf-dist/tex/latex/amsmath/amsmath.sty\n",
            "For additional information on amsmath, use the `?' option.\n",
            "(/usr/share/texlive/texmf-dist/tex/latex/amsmath/amstext.sty\n",
            "(/usr/share/texlive/texmf-dist/tex/latex/amsmath/amsgen.sty))\n",
            "(/usr/share/texlive/texmf-dist/tex/latex/amsmath/amsbsy.sty)\n",
            "(/usr/share/texlive/texmf-dist/tex/latex/amsmath/amsopn.sty))\n",
            "(/usr/share/texlive/texmf-dist/tex/latex/amsfonts/amssymb.sty\n",
            "(/usr/share/texlive/texmf-dist/tex/latex/amsfonts/amsfonts.sty))\n",
            "(/usr/share/texlive/texmf-dist/tex/latex/base/textcomp.sty\n",
            "(/usr/share/texlive/texmf-dist/tex/latex/base/ts1enc.def))\n",
            "(/usr/share/texlive/texmf-dist/tex/latex/upquote/upquote.sty)\n",
            "(/usr/share/texlive/texmf-dist/tex/latex/eurosym/eurosym.sty)\n",
            "(/usr/share/texlive/texmf-dist/tex/latex/ucs/ucs.sty\n",
            "(/usr/share/texlive/texmf-dist/tex/latex/ucs/data/uni-global.def))\n",
            "(/usr/share/texlive/texmf-dist/tex/latex/fancyvrb/fancyvrb.sty\n",
            "Style option: `fancyvrb' v2.7a, with DG/SPQR fixes, and firstline=lastline fix \n",
            "<2008/02/07> (tvz))\n",
            "(/usr/share/texlive/texmf-dist/tex/latex/oberdiek/grffile.sty\n",
            "(/usr/share/texlive/texmf-dist/tex/latex/oberdiek/kvoptions.sty\n",
            "(/usr/share/texlive/texmf-dist/tex/generic/oberdiek/ltxcmds.sty)\n",
            "(/usr/share/texlive/texmf-dist/tex/generic/oberdiek/kvsetkeys.sty\n",
            "(/usr/share/texlive/texmf-dist/tex/generic/oberdiek/infwarerr.sty)\n",
            "(/usr/share/texlive/texmf-dist/tex/generic/oberdiek/etexcmds.sty\n",
            "(/usr/share/texlive/texmf-dist/tex/generic/oberdiek/ifluatex.sty))))\n",
            "(/usr/share/texlive/texmf-dist/tex/generic/oberdiek/pdftexcmds.sty))\n",
            "(/usr/share/texlive/texmf-dist/tex/latex/hyperref/hyperref.sty\n",
            "(/usr/share/texlive/texmf-dist/tex/generic/oberdiek/hobsub-hyperref.sty\n",
            "(/usr/share/texlive/texmf-dist/tex/generic/oberdiek/hobsub-generic.sty))\n",
            "(/usr/share/texlive/texmf-dist/tex/latex/oberdiek/auxhook.sty)\n",
            "(/usr/share/texlive/texmf-dist/tex/latex/hyperref/pd1enc.def)\n",
            "(/usr/share/texlive/texmf-dist/tex/latex/latexconfig/hyperref.cfg)\n",
            "(/usr/share/texlive/texmf-dist/tex/latex/url/url.sty))\n",
            "(/usr/share/texlive/texmf-dist/tex/latex/hyperref/hxetex.def\n",
            "(/usr/share/texlive/texmf-dist/tex/latex/hyperref/puenc.def)\n",
            "(/usr/share/texlive/texmf-dist/tex/generic/oberdiek/stringenc.sty)\n",
            "(/usr/share/texlive/texmf-dist/tex/latex/oberdiek/rerunfilecheck.sty))\n",
            "(/usr/share/texlive/texmf-dist/tex/latex/titling/titling.sty)\n",
            "(/usr/share/texlive/texmf-dist/tex/latex/tools/longtable.sty)\n",
            "(/usr/share/texlive/texmf-dist/tex/latex/booktabs/booktabs.sty)\n",
            "(/usr/share/texlive/texmf-dist/tex/latex/enumitem/enumitem.sty)\n",
            "(/usr/share/texlive/texmf-dist/tex/generic/ulem/ulem.sty)\n",
            "(/usr/share/texlive/texmf-dist/tex/latex/jknapltx/mathrsfs.sty)\n",
            "No file notebook.aux.\n",
            "(/usr/share/texlive/texmf-dist/tex/latex/base/ts1cmr.fd)\n",
            "ABD: EveryShipout initializing macros\n",
            "(/usr/share/texlive/texmf-dist/tex/latex/caption/ltcaption.sty)\n",
            "*geometry* driver: auto-detecting\n",
            "*geometry* detected driver: xetex\n",
            "*geometry* verbose mode - [ preamble ] result:\n",
            "* driver: xetex\n",
            "* paper: <default>\n",
            "* layout: <same size as paper>\n",
            "* layoutoffset:(h,v)=(0.0pt,0.0pt)\n",
            "* modes: \n",
            "* h-part:(L,W,R)=(72.26999pt, 469.75502pt, 72.26999pt)\n",
            "* v-part:(T,H,B)=(72.26999pt, 650.43001pt, 72.26999pt)\n",
            "* \\paperwidth=614.295pt\n",
            "* \\paperheight=794.96999pt\n",
            "* \\textwidth=469.75502pt\n",
            "* \\textheight=650.43001pt\n",
            "* \\oddsidemargin=0.0pt\n",
            "* \\evensidemargin=0.0pt\n",
            "* \\topmargin=-37.0pt\n",
            "* \\headheight=12.0pt\n",
            "* \\headsep=25.0pt\n",
            "* \\topskip=11.0pt\n",
            "* \\footskip=30.0pt\n",
            "* \\marginparwidth=59.0pt\n",
            "* \\marginparsep=10.0pt\n",
            "* \\columnsep=10.0pt\n",
            "* \\skip\\footins=10.0pt plus 4.0pt minus 2.0pt\n",
            "* \\hoffset=0.0pt\n",
            "* \\voffset=0.0pt\n",
            "* \\mag=1000\n",
            "* \\@twocolumnfalse\n",
            "* \\@twosidefalse\n",
            "* \\@mparswitchfalse\n",
            "* \\@reversemarginfalse\n",
            "* (1in=72.27pt=25.4mm, 1cm=28.453pt)\n",
            "\n",
            "(/usr/share/texlive/texmf-dist/tex/latex/ucs/ucsencs.def)\n",
            "(/usr/share/texlive/texmf-dist/tex/latex/hyperref/nameref.sty\n",
            "(/usr/share/texlive/texmf-dist/tex/generic/oberdiek/gettitlestring.sty))\n",
            "\n",
            "Package hyperref Warning: Rerun to get /PageLabels entry.\n",
            "\n",
            "(/usr/share/texlive/texmf-dist/tex/latex/amsfonts/umsa.fd)\n",
            "(/usr/share/texlive/texmf-dist/tex/latex/amsfonts/umsb.fd)\n",
            "(/usr/share/texlive/texmf-dist/tex/latex/jknapltx/ursfs.fd)\n",
            "\n",
            "LaTeX Warning: No \\author given.\n",
            "\n",
            "(/usr/share/texlive/texmf-dist/tex/generic/oberdiek/se-ascii-print.def)\n",
            "! Text line contains an invalid character.\n",
            "l.393 ...l-center-provides-one-largest-publicly^^B\n",
            "                                                  available-chest-x-ray-data...\n",
            "\n",
            "? \n",
            "! Emergency stop.\n",
            "l.393 ...l-center-provides-one-largest-publicly^^B\n",
            "                                                  available-chest-x-ray-data...\n",
            "\n",
            "No pages of output.\n",
            "Transcript written on notebook.log.\n",
            "\n",
            "Traceback (most recent call last):\n",
            "  File \"/usr/local/bin/jupyter-nbconvert\", line 8, in <module>\n",
            "    sys.exit(main())\n",
            "  File \"/usr/local/lib/python3.8/dist-packages/jupyter_core/application.py\", line 276, in launch_instance\n",
            "    return super().launch_instance(argv=argv, **kwargs)\n",
            "  File \"/usr/local/lib/python3.8/dist-packages/traitlets/config/application.py\", line 985, in launch_instance\n",
            "    app.start()\n",
            "  File \"/usr/local/lib/python3.8/dist-packages/nbconvert/nbconvertapp.py\", line 340, in start\n",
            "    self.convert_notebooks()\n",
            "  File \"/usr/local/lib/python3.8/dist-packages/nbconvert/nbconvertapp.py\", line 510, in convert_notebooks\n",
            "    self.convert_single_notebook(notebook_filename)\n",
            "  File \"/usr/local/lib/python3.8/dist-packages/nbconvert/nbconvertapp.py\", line 481, in convert_single_notebook\n",
            "    output, resources = self.export_single_notebook(notebook_filename, resources, input_buffer=input_buffer)\n",
            "  File \"/usr/local/lib/python3.8/dist-packages/nbconvert/nbconvertapp.py\", line 410, in export_single_notebook\n",
            "    output, resources = self.exporter.from_filename(notebook_filename, resources=resources)\n",
            "  File \"/usr/local/lib/python3.8/dist-packages/nbconvert/exporters/exporter.py\", line 179, in from_filename\n",
            "    return self.from_file(f, resources=resources, **kw)\n",
            "  File \"/usr/local/lib/python3.8/dist-packages/nbconvert/exporters/exporter.py\", line 197, in from_file\n",
            "    return self.from_notebook_node(nbformat.read(file_stream, as_version=4), resources=resources, **kw)\n",
            "  File \"/usr/local/lib/python3.8/dist-packages/nbconvert/exporters/pdf.py\", line 185, in from_notebook_node\n",
            "    self.run_latex(tex_file)\n",
            "  File \"/usr/local/lib/python3.8/dist-packages/nbconvert/exporters/pdf.py\", line 155, in run_latex\n",
            "    return self.run_command(self.latex_command, filename,\n",
            "  File \"/usr/local/lib/python3.8/dist-packages/nbconvert/exporters/pdf.py\", line 143, in run_command\n",
            "    raise raise_on_failure(\n",
            "nbconvert.exporters.pdf.LatexFailed: PDF creating failed, captured latex output:\n",
            "Failed to run \"['xelatex', './notebook.tex', '-quiet']\" command:\n",
            "This is XeTeX, Version 3.14159265-2.6-0.99998 (TeX Live 2017/Debian) (preloaded format=xelatex)\n",
            " restricted \\write18 enabled.\n",
            "entering extended mode\n",
            "(./notebook.tex\n",
            "LaTeX2e <2017-04-15>\n",
            "Babel <3.18> and hyphenation patterns for 3 language(s) loaded.\n",
            "(/usr/share/texlive/texmf-dist/tex/latex/base/article.cls\n",
            "Document Class: article 2014/09/29 v1.4h Standard LaTeX document class\n",
            "(/usr/share/texlive/texmf-dist/tex/latex/base/size11.clo))\n",
            "(/usr/share/texlive/texmf-dist/tex/latex/tcolorbox/tcolorbox.sty\n",
            "(/usr/share/texlive/texmf-dist/tex/latex/pgf/basiclayer/pgf.sty\n",
            "(/usr/share/texlive/texmf-dist/tex/latex/pgf/utilities/pgfrcs.sty\n",
            "(/usr/share/texlive/texmf-dist/tex/generic/pgf/utilities/pgfutil-common.tex\n",
            "(/usr/share/texlive/texmf-dist/tex/generic/pgf/utilities/pgfutil-common-lists.t\n",
            "ex)) (/usr/share/texlive/texmf-dist/tex/generic/pgf/utilities/pgfutil-latex.def\n",
            "(/usr/share/texlive/texmf-dist/tex/latex/ms/everyshi.sty))\n",
            "(/usr/share/texlive/texmf-dist/tex/generic/pgf/utilities/pgfrcs.code.tex))\n",
            "(/usr/share/texlive/texmf-dist/tex/latex/pgf/basiclayer/pgfcore.sty\n",
            "(/usr/share/texlive/texmf-dist/tex/latex/graphics/graphicx.sty\n",
            "(/usr/share/texlive/texmf-dist/tex/latex/graphics/keyval.sty)\n",
            "(/usr/share/texlive/texmf-dist/tex/latex/graphics/graphics.sty\n",
            "(/usr/share/texlive/texmf-dist/tex/latex/graphics/trig.sty)\n",
            "(/usr/share/texlive/texmf-dist/tex/latex/graphics-cfg/graphics.cfg)\n",
            "(/usr/share/texlive/texmf-dist/tex/latex/graphics-def/xetex.def)))\n",
            "(/usr/share/texlive/texmf-dist/tex/latex/pgf/systemlayer/pgfsys.sty\n",
            "(/usr/share/texlive/texmf-dist/tex/generic/pgf/systemlayer/pgfsys.code.tex\n",
            "(/usr/share/texlive/texmf-dist/tex/generic/pgf/utilities/pgfkeys.code.tex\n",
            "(/usr/share/texlive/texmf-dist/tex/generic/pgf/utilities/pgfkeysfiltered.code.t\n",
            "ex)) (/usr/share/texlive/texmf-dist/tex/generic/pgf/systemlayer/pgf.cfg)\n",
            "(/usr/share/texlive/texmf-dist/tex/generic/pgf/systemlayer/pgfsys-xetex.def\n",
            "(/usr/share/texlive/texmf-dist/tex/generic/pgf/systemlayer/pgfsys-dvipdfmx.def\n",
            "(/usr/share/texlive/texmf-dist/tex/generic/pgf/systemlayer/pgfsys-common-pdf.de\n",
            "f))))\n",
            "(/usr/share/texlive/texmf-dist/tex/generic/pgf/systemlayer/pgfsyssoftpath.code.\n",
            "tex)\n",
            "(/usr/share/texlive/texmf-dist/tex/generic/pgf/systemlayer/pgfsysprotocol.code.\n",
            "tex)) (/usr/share/texlive/texmf-dist/tex/latex/xcolor/xcolor.sty\n",
            "(/usr/share/texlive/texmf-dist/tex/latex/graphics-cfg/color.cfg))\n",
            "(/usr/share/texlive/texmf-dist/tex/generic/pgf/basiclayer/pgfcore.code.tex\n",
            "(/usr/share/texlive/texmf-dist/tex/generic/pgf/math/pgfmath.code.tex\n",
            "(/usr/share/texlive/texmf-dist/tex/generic/pgf/math/pgfmathcalc.code.tex\n",
            "(/usr/share/texlive/texmf-dist/tex/generic/pgf/math/pgfmathutil.code.tex)\n",
            "(/usr/share/texlive/texmf-dist/tex/generic/pgf/math/pgfmathparser.code.tex)\n",
            "(/usr/share/texlive/texmf-dist/tex/generic/pgf/math/pgfmathfunctions.code.tex\n",
            "(/usr/share/texlive/texmf-dist/tex/generic/pgf/math/pgfmathfunctions.basic.code\n",
            ".tex)\n",
            "(/usr/share/texlive/texmf-dist/tex/generic/pgf/math/pgfmathfunctions.trigonomet\n",
            "ric.code.tex)\n",
            "(/usr/share/texlive/texmf-dist/tex/generic/pgf/math/pgfmathfunctions.random.cod\n",
            "e.tex)\n",
            "(/usr/share/texlive/texmf-dist/tex/generic/pgf/math/pgfmathfunctions.comparison\n",
            ".code.tex)\n",
            "(/usr/share/texlive/texmf-dist/tex/generic/pgf/math/pgfmathfunctions.base.code.\n",
            "tex)\n",
            "(/usr/share/texlive/texmf-dist/tex/generic/pgf/math/pgfmathfunctions.round.code\n",
            ".tex)\n",
            "(/usr/share/texlive/texmf-dist/tex/generic/pgf/math/pgfmathfunctions.misc.code.\n",
            "tex)\n",
            "(/usr/share/texlive/texmf-dist/tex/generic/pgf/math/pgfmathfunctions.integerari\n",
            "thmetics.code.tex)))\n",
            "(/usr/share/texlive/texmf-dist/tex/generic/pgf/math/pgfmathfloat.code.tex))\n",
            "(/usr/share/texlive/texmf-dist/tex/generic/pgf/basiclayer/pgfcorepoints.code.te\n",
            "x)\n",
            "(/usr/share/texlive/texmf-dist/tex/generic/pgf/basiclayer/pgfcorepathconstruct.\n",
            "code.tex)\n",
            "(/usr/share/texlive/texmf-dist/tex/generic/pgf/basiclayer/pgfcorepathusage.code\n",
            ".tex)\n",
            "(/usr/share/texlive/texmf-dist/tex/generic/pgf/basiclayer/pgfcorescopes.code.te\n",
            "x)\n",
            "(/usr/share/texlive/texmf-dist/tex/generic/pgf/basiclayer/pgfcoregraphicstate.c\n",
            "ode.tex)\n",
            "(/usr/share/texlive/texmf-dist/tex/generic/pgf/basiclayer/pgfcoretransformation\n",
            "s.code.tex)\n",
            "(/usr/share/texlive/texmf-dist/tex/generic/pgf/basiclayer/pgfcorequick.code.tex\n",
            ")\n",
            "(/usr/share/texlive/texmf-dist/tex/generic/pgf/basiclayer/pgfcoreobjects.code.t\n",
            "ex)\n",
            "(/usr/share/texlive/texmf-dist/tex/generic/pgf/basiclayer/pgfcorepathprocessing\n",
            ".code.tex)\n",
            "(/usr/share/texlive/texmf-dist/tex/generic/pgf/basiclayer/pgfcorearrows.code.te\n",
            "x)\n",
            "(/usr/share/texlive/texmf-dist/tex/generic/pgf/basiclayer/pgfcoreshade.code.tex\n",
            ")\n",
            "(/usr/share/texlive/texmf-dist/tex/generic/pgf/basiclayer/pgfcoreimage.code.tex\n",
            "\n",
            "(/usr/share/texlive/texmf-dist/tex/generic/pgf/basiclayer/pgfcoreexternal.code.\n",
            "tex))\n",
            "(/usr/share/texlive/texmf-dist/tex/generic/pgf/basiclayer/pgfcorelayers.code.te\n",
            "x)\n",
            "(/usr/share/texlive/texmf-dist/tex/generic/pgf/basiclayer/pgfcoretransparency.c\n",
            "ode.tex)\n",
            "(/usr/share/texlive/texmf-dist/tex/generic/pgf/basiclayer/pgfcorepatterns.code.\n",
            "tex)))\n",
            "(/usr/share/texlive/texmf-dist/tex/generic/pgf/modules/pgfmoduleshapes.code.tex\n",
            ") (/usr/share/texlive/texmf-dist/tex/generic/pgf/modules/pgfmoduleplot.code.tex\n",
            ")\n",
            "(/usr/share/texlive/texmf-dist/tex/latex/pgf/compatibility/pgfcomp-version-0-65\n",
            ".sty)\n",
            "(/usr/share/texlive/texmf-dist/tex/latex/pgf/compatibility/pgfcomp-version-1-18\n",
            ".sty)) (/usr/share/texlive/texmf-dist/tex/latex/tools/verbatim.sty)\n",
            "(/usr/share/texlive/texmf-dist/tex/latex/environ/environ.sty\n",
            "(/usr/share/texlive/texmf-dist/tex/latex/trimspaces/trimspaces.sty))\n",
            "(/usr/share/texlive/texmf-dist/tex/latex/etoolbox/etoolbox.sty)\n",
            "(/usr/share/texlive/texmf-dist/tex/latex/tcolorbox/tcbbreakable.code.tex\n",
            "Library (tcolorbox): 'tcbbreakable.code.tex' version '4.12'\n",
            ")) (/usr/share/texlive/texmf-dist/tex/latex/parskip/parskip.sty)\n",
            "(/usr/share/texlive/texmf-dist/tex/generic/iftex/iftex.sty)\n",
            "(/usr/share/texlive/texmf-dist/tex/latex/fontspec/fontspec.sty\n",
            "(/usr/share/texlive/texmf-dist/tex/latex/l3packages/xparse/xparse.sty\n",
            "(/usr/share/texlive/texmf-dist/tex/latex/l3kernel/expl3.sty\n",
            "(/usr/share/texlive/texmf-dist/tex/latex/l3kernel/expl3-code.tex)\n",
            "(/usr/share/texlive/texmf-dist/tex/latex/l3kernel/l3xdvipdfmx.def)))\n",
            "(/usr/share/texlive/texmf-dist/tex/latex/fontspec/fontspec-xetex.sty\n",
            "(/usr/share/texlive/texmf-dist/tex/latex/base/fontenc.sty\n",
            "(/usr/share/texlive/texmf-dist/tex/latex/base/tuenc.def))\n",
            "(/usr/share/texlive/texmf-dist/tex/latex/fontspec/fontspec.cfg)))\n",
            "(/usr/share/texlive/texmf-dist/tex/latex/caption/caption.sty\n",
            "(/usr/share/texlive/texmf-dist/tex/latex/caption/caption3.sty))\n",
            "(/usr/share/texlive/texmf-dist/tex/latex/adjustbox/adjustbox.sty\n",
            "(/usr/share/texlive/texmf-dist/tex/latex/xkeyval/xkeyval.sty\n",
            "(/usr/share/texlive/texmf-dist/tex/generic/xkeyval/xkeyval.tex\n",
            "(/usr/share/texlive/texmf-dist/tex/generic/xkeyval/xkvutils.tex)))\n",
            "(/usr/share/texlive/texmf-dist/tex/latex/adjustbox/adjcalc.sty)\n",
            "(/usr/share/texlive/texmf-dist/tex/latex/adjustbox/trimclip.sty\n",
            "(/usr/share/texlive/texmf-dist/tex/latex/collectbox/collectbox.sty)\n",
            "(/usr/share/texlive/texmf-dist/tex/latex/adjustbox/tc-xetex.def))\n",
            "(/usr/share/texlive/texmf-dist/tex/latex/ifoddpage/ifoddpage.sty)\n",
            "(/usr/share/texlive/texmf-dist/tex/latex/varwidth/varwidth.sty))\n",
            "(/usr/share/texlive/texmf-dist/tex/latex/float/float.sty)\n",
            "(/usr/share/texlive/texmf-dist/tex/latex/tools/enumerate.sty)\n",
            "(/usr/share/texlive/texmf-dist/tex/latex/geometry/geometry.sty\n",
            "(/usr/share/texlive/texmf-dist/tex/generic/oberdiek/ifpdf.sty)\n",
            "(/usr/share/texlive/texmf-dist/tex/generic/oberdiek/ifvtex.sty)\n",
            "(/usr/share/texlive/texmf-dist/tex/generic/ifxetex/ifxetex.sty))\n",
            "(/usr/share/texlive/texmf-dist/tex/latex/amsmath/amsmath.sty\n",
            "For additional information on amsmath, use the `?' option.\n",
            "(/usr/share/texlive/texmf-dist/tex/latex/amsmath/amstext.sty\n",
            "(/usr/share/texlive/texmf-dist/tex/latex/amsmath/amsgen.sty))\n",
            "(/usr/share/texlive/texmf-dist/tex/latex/amsmath/amsbsy.sty)\n",
            "(/usr/share/texlive/texmf-dist/tex/latex/amsmath/amsopn.sty))\n",
            "(/usr/share/texlive/texmf-dist/tex/latex/amsfonts/amssymb.sty\n",
            "(/usr/share/texlive/texmf-dist/tex/latex/amsfonts/amsfonts.sty))\n",
            "(/usr/share/texlive/texmf-dist/tex/latex/base/textcomp.sty\n",
            "(/usr/share/texlive/texmf-dist/tex/latex/base/ts1enc.def))\n",
            "(/usr/share/texlive/texmf-dist/tex/latex/upquote/upquote.sty)\n",
            "(/usr/share/texlive/texmf-dist/tex/latex/eurosym/eurosym.sty)\n",
            "(/usr/share/texlive/texmf-dist/tex/latex/ucs/ucs.sty\n",
            "(/usr/share/texlive/texmf-dist/tex/latex/ucs/data/uni-global.def))\n",
            "(/usr/share/texlive/texmf-dist/tex/latex/fancyvrb/fancyvrb.sty\n",
            "Style option: `fancyvrb' v2.7a, with DG/SPQR fixes, and firstline=lastline fix \n",
            "<2008/02/07> (tvz))\n",
            "(/usr/share/texlive/texmf-dist/tex/latex/oberdiek/grffile.sty\n",
            "(/usr/share/texlive/texmf-dist/tex/latex/oberdiek/kvoptions.sty\n",
            "(/usr/share/texlive/texmf-dist/tex/generic/oberdiek/ltxcmds.sty)\n",
            "(/usr/share/texlive/texmf-dist/tex/generic/oberdiek/kvsetkeys.sty\n",
            "(/usr/share/texlive/texmf-dist/tex/generic/oberdiek/infwarerr.sty)\n",
            "(/usr/share/texlive/texmf-dist/tex/generic/oberdiek/etexcmds.sty\n",
            "(/usr/share/texlive/texmf-dist/tex/generic/oberdiek/ifluatex.sty))))\n",
            "(/usr/share/texlive/texmf-dist/tex/generic/oberdiek/pdftexcmds.sty))\n",
            "(/usr/share/texlive/texmf-dist/tex/latex/hyperref/hyperref.sty\n",
            "(/usr/share/texlive/texmf-dist/tex/generic/oberdiek/hobsub-hyperref.sty\n",
            "(/usr/share/texlive/texmf-dist/tex/generic/oberdiek/hobsub-generic.sty))\n",
            "(/usr/share/texlive/texmf-dist/tex/latex/oberdiek/auxhook.sty)\n",
            "(/usr/share/texlive/texmf-dist/tex/latex/hyperref/pd1enc.def)\n",
            "(/usr/share/texlive/texmf-dist/tex/latex/latexconfig/hyperref.cfg)\n",
            "(/usr/share/texlive/texmf-dist/tex/latex/url/url.sty))\n",
            "(/usr/share/texlive/texmf-dist/tex/latex/hyperref/hxetex.def\n",
            "(/usr/share/texlive/texmf-dist/tex/latex/hyperref/puenc.def)\n",
            "(/usr/share/texlive/texmf-dist/tex/generic/oberdiek/stringenc.sty)\n",
            "(/usr/share/texlive/texmf-dist/tex/latex/oberdiek/rerunfilecheck.sty))\n",
            "(/usr/share/texlive/texmf-dist/tex/latex/titling/titling.sty)\n",
            "(/usr/share/texlive/texmf-dist/tex/latex/tools/longtable.sty)\n",
            "(/usr/share/texlive/texmf-dist/tex/latex/booktabs/booktabs.sty)\n",
            "(/usr/share/texlive/texmf-dist/tex/latex/enumitem/enumitem.sty)\n",
            "(/usr/share/texlive/texmf-dist/tex/generic/ulem/ulem.sty)\n",
            "(/usr/share/texlive/texmf-dist/tex/latex/jknapltx/mathrsfs.sty)\n",
            "No file notebook.aux.\n",
            "(/usr/share/texlive/texmf-dist/tex/latex/base/ts1cmr.fd)\n",
            "ABD: EveryShipout initializing macros\n",
            "(/usr/share/texlive/texmf-dist/tex/latex/caption/ltcaption.sty)\n",
            "*geometry* driver: auto-detecting\n",
            "*geometry* detected driver: xetex\n",
            "*geometry* verbose mode - [ preamble ] result:\n",
            "* driver: xetex\n",
            "* paper: <default>\n",
            "* layout: <same size as paper>\n",
            "* layoutoffset:(h,v)=(0.0pt,0.0pt)\n",
            "* modes: \n",
            "* h-part:(L,W,R)=(72.26999pt, 469.75502pt, 72.26999pt)\n",
            "* v-part:(T,H,B)=(72.26999pt, 650.43001pt, 72.26999pt)\n",
            "* \\paperwidth=614.295pt\n",
            "* \\paperheight=794.96999pt\n",
            "* \\textwidth=469.75502pt\n",
            "* \\textheight=650.43001pt\n",
            "* \\oddsidemargin=0.0pt\n",
            "* \\evensidemargin=0.0pt\n",
            "* \\topmargin=-37.0pt\n",
            "* \\headheight=12.0pt\n",
            "* \\headsep=25.0pt\n",
            "* \\topskip=11.0pt\n",
            "* \\footskip=30.0pt\n",
            "* \\marginparwidth=59.0pt\n",
            "* \\marginparsep=10.0pt\n",
            "* \\columnsep=10.0pt\n",
            "* \\skip\\footins=10.0pt plus 4.0pt minus 2.0pt\n",
            "* \\hoffset=0.0pt\n",
            "* \\voffset=0.0pt\n",
            "* \\mag=1000\n",
            "* \\@twocolumnfalse\n",
            "* \\@twosidefalse\n",
            "* \\@mparswitchfalse\n",
            "* \\@reversemarginfalse\n",
            "* (1in=72.27pt=25.4mm, 1cm=28.453pt)\n",
            "\n",
            "(/usr/share/texlive/texmf-dist/tex/latex/ucs/ucsencs.def)\n",
            "(/usr/share/texlive/texmf-dist/tex/latex/hyperref/nameref.sty\n",
            "(/usr/share/texlive/texmf-dist/tex/generic/oberdiek/gettitlestring.sty))\n",
            "\n",
            "Package hyperref Warning: Rerun to get /PageLabels entry.\n",
            "\n",
            "(/usr/share/texlive/texmf-dist/tex/latex/amsfonts/umsa.fd)\n",
            "(/usr/share/texlive/texmf-dist/tex/latex/amsfonts/umsb.fd)\n",
            "(/usr/share/texlive/texmf-dist/tex/latex/jknapltx/ursfs.fd)\n",
            "\n",
            "LaTeX Warning: No \\author given.\n",
            "\n",
            "(/usr/share/texlive/texmf-dist/tex/generic/oberdiek/se-ascii-print.def)\n",
            "! Text line contains an invalid character.\n",
            "l.393 ...l-center-provides-one-largest-publicly^^B\n",
            "                                                  available-chest-x-ray-data...\n",
            "\n",
            "? \n",
            "! Emergency stop.\n",
            "l.393 ...l-center-provides-one-largest-publicly^^B\n",
            "                                                  available-chest-x-ray-data...\n",
            "\n",
            "No pages of output.\n",
            "Transcript written on notebook.log.\n",
            "\n"
          ]
        }
      ],
      "source": [
        "!jupyter nbconvert --to pdf PEC2.ipynb"
      ]
    }
  ],
  "metadata": {
    "accelerator": "GPU",
    "colab": {
      "collapsed_sections": [
        "KN_pLZGfk3WM",
        "7swV3hvgBtOG",
        "bMTpue3zV5op",
        "n7bXVuuDB_Nr",
        "dSbP1B_Ca9U0",
        "owwbO5NXGpLt",
        "rlC8BrakKm1W",
        "HmxQtPLyM26Q",
        "6dTim99uNHKq",
        "OncStqKsjmd5"
      ],
      "provenance": []
    },
    "gpuClass": "standard",
    "kernelspec": {
      "display_name": "Python 3",
      "name": "python3"
    },
    "language_info": {
      "name": "python"
    }
  },
  "nbformat": 4,
  "nbformat_minor": 0
}
